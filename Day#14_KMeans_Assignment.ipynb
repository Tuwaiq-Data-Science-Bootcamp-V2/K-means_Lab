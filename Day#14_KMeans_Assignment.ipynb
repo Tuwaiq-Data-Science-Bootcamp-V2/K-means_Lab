{
 "cells": [
  {
   "cell_type": "markdown",
   "metadata": {},
   "source": [
    "## Import Libraries"
   ]
  },
  {
   "cell_type": "code",
   "execution_count": 5,
   "metadata": {},
   "outputs": [],
   "source": [
    "import warnings\n",
    "warnings.filterwarnings(\"ignore\")\n",
    "import pandas as pd\n",
    "import numpy as np\n",
    "import matplotlib.pyplot as plt\n",
    "import seaborn as sns\n",
    "%matplotlib inline\n",
    "import plotly.express as px"
   ]
  },
  {
   "cell_type": "markdown",
   "metadata": {},
   "source": [
    "## Load the Data"
   ]
  },
  {
   "cell_type": "code",
   "execution_count": 2,
   "metadata": {},
   "outputs": [],
   "source": [
    "df = pd.read_csv('College_Data', index_col=0) # index_col=0 to put first column as index"
   ]
  },
  {
   "cell_type": "code",
   "execution_count": 3,
   "metadata": {},
   "outputs": [
    {
     "data": {
      "text/html": [
       "<div>\n",
       "<style scoped>\n",
       "    .dataframe tbody tr th:only-of-type {\n",
       "        vertical-align: middle;\n",
       "    }\n",
       "\n",
       "    .dataframe tbody tr th {\n",
       "        vertical-align: top;\n",
       "    }\n",
       "\n",
       "    .dataframe thead th {\n",
       "        text-align: right;\n",
       "    }\n",
       "</style>\n",
       "<table border=\"1\" class=\"dataframe\">\n",
       "  <thead>\n",
       "    <tr style=\"text-align: right;\">\n",
       "      <th></th>\n",
       "      <th>Private</th>\n",
       "      <th>Apps</th>\n",
       "      <th>Accept</th>\n",
       "      <th>Enroll</th>\n",
       "      <th>Top10perc</th>\n",
       "      <th>Top25perc</th>\n",
       "      <th>F.Undergrad</th>\n",
       "      <th>P.Undergrad</th>\n",
       "      <th>Outstate</th>\n",
       "      <th>Room.Board</th>\n",
       "      <th>Books</th>\n",
       "      <th>Personal</th>\n",
       "      <th>PhD</th>\n",
       "      <th>Terminal</th>\n",
       "      <th>S.F.Ratio</th>\n",
       "      <th>perc.alumni</th>\n",
       "      <th>Expend</th>\n",
       "      <th>Grad.Rate</th>\n",
       "    </tr>\n",
       "  </thead>\n",
       "  <tbody>\n",
       "    <tr>\n",
       "      <th>Abilene Christian University</th>\n",
       "      <td>Yes</td>\n",
       "      <td>1660</td>\n",
       "      <td>1232</td>\n",
       "      <td>721</td>\n",
       "      <td>23</td>\n",
       "      <td>52</td>\n",
       "      <td>2885</td>\n",
       "      <td>537</td>\n",
       "      <td>7440</td>\n",
       "      <td>3300</td>\n",
       "      <td>450</td>\n",
       "      <td>2200</td>\n",
       "      <td>70</td>\n",
       "      <td>78</td>\n",
       "      <td>18.1</td>\n",
       "      <td>12</td>\n",
       "      <td>7041</td>\n",
       "      <td>60</td>\n",
       "    </tr>\n",
       "    <tr>\n",
       "      <th>Adelphi University</th>\n",
       "      <td>Yes</td>\n",
       "      <td>2186</td>\n",
       "      <td>1924</td>\n",
       "      <td>512</td>\n",
       "      <td>16</td>\n",
       "      <td>29</td>\n",
       "      <td>2683</td>\n",
       "      <td>1227</td>\n",
       "      <td>12280</td>\n",
       "      <td>6450</td>\n",
       "      <td>750</td>\n",
       "      <td>1500</td>\n",
       "      <td>29</td>\n",
       "      <td>30</td>\n",
       "      <td>12.2</td>\n",
       "      <td>16</td>\n",
       "      <td>10527</td>\n",
       "      <td>56</td>\n",
       "    </tr>\n",
       "    <tr>\n",
       "      <th>Adrian College</th>\n",
       "      <td>Yes</td>\n",
       "      <td>1428</td>\n",
       "      <td>1097</td>\n",
       "      <td>336</td>\n",
       "      <td>22</td>\n",
       "      <td>50</td>\n",
       "      <td>1036</td>\n",
       "      <td>99</td>\n",
       "      <td>11250</td>\n",
       "      <td>3750</td>\n",
       "      <td>400</td>\n",
       "      <td>1165</td>\n",
       "      <td>53</td>\n",
       "      <td>66</td>\n",
       "      <td>12.9</td>\n",
       "      <td>30</td>\n",
       "      <td>8735</td>\n",
       "      <td>54</td>\n",
       "    </tr>\n",
       "    <tr>\n",
       "      <th>Agnes Scott College</th>\n",
       "      <td>Yes</td>\n",
       "      <td>417</td>\n",
       "      <td>349</td>\n",
       "      <td>137</td>\n",
       "      <td>60</td>\n",
       "      <td>89</td>\n",
       "      <td>510</td>\n",
       "      <td>63</td>\n",
       "      <td>12960</td>\n",
       "      <td>5450</td>\n",
       "      <td>450</td>\n",
       "      <td>875</td>\n",
       "      <td>92</td>\n",
       "      <td>97</td>\n",
       "      <td>7.7</td>\n",
       "      <td>37</td>\n",
       "      <td>19016</td>\n",
       "      <td>59</td>\n",
       "    </tr>\n",
       "    <tr>\n",
       "      <th>Alaska Pacific University</th>\n",
       "      <td>Yes</td>\n",
       "      <td>193</td>\n",
       "      <td>146</td>\n",
       "      <td>55</td>\n",
       "      <td>16</td>\n",
       "      <td>44</td>\n",
       "      <td>249</td>\n",
       "      <td>869</td>\n",
       "      <td>7560</td>\n",
       "      <td>4120</td>\n",
       "      <td>800</td>\n",
       "      <td>1500</td>\n",
       "      <td>76</td>\n",
       "      <td>72</td>\n",
       "      <td>11.9</td>\n",
       "      <td>2</td>\n",
       "      <td>10922</td>\n",
       "      <td>15</td>\n",
       "    </tr>\n",
       "  </tbody>\n",
       "</table>\n",
       "</div>"
      ],
      "text/plain": [
       "                             Private  Apps  Accept  Enroll  Top10perc  \\\n",
       "Abilene Christian University     Yes  1660    1232     721         23   \n",
       "Adelphi University               Yes  2186    1924     512         16   \n",
       "Adrian College                   Yes  1428    1097     336         22   \n",
       "Agnes Scott College              Yes   417     349     137         60   \n",
       "Alaska Pacific University        Yes   193     146      55         16   \n",
       "\n",
       "                              Top25perc  F.Undergrad  P.Undergrad  Outstate  \\\n",
       "Abilene Christian University         52         2885          537      7440   \n",
       "Adelphi University                   29         2683         1227     12280   \n",
       "Adrian College                       50         1036           99     11250   \n",
       "Agnes Scott College                  89          510           63     12960   \n",
       "Alaska Pacific University            44          249          869      7560   \n",
       "\n",
       "                              Room.Board  Books  Personal  PhD  Terminal  \\\n",
       "Abilene Christian University        3300    450      2200   70        78   \n",
       "Adelphi University                  6450    750      1500   29        30   \n",
       "Adrian College                      3750    400      1165   53        66   \n",
       "Agnes Scott College                 5450    450       875   92        97   \n",
       "Alaska Pacific University           4120    800      1500   76        72   \n",
       "\n",
       "                              S.F.Ratio  perc.alumni  Expend  Grad.Rate  \n",
       "Abilene Christian University       18.1           12    7041         60  \n",
       "Adelphi University                 12.2           16   10527         56  \n",
       "Adrian College                     12.9           30    8735         54  \n",
       "Agnes Scott College                 7.7           37   19016         59  \n",
       "Alaska Pacific University          11.9            2   10922         15  "
      ]
     },
     "execution_count": 3,
     "metadata": {},
     "output_type": "execute_result"
    }
   ],
   "source": [
    "df.head()"
   ]
  },
  {
   "cell_type": "markdown",
   "metadata": {},
   "source": [
    "* Private A factor with levels No and Yes indicating private or public university\n",
    "* Apps Number of applications received\n",
    "* Accept Number of applications accepted\n",
    "* Enroll Number of new students enrolled\n",
    "* Top10perc Pct. new students from top 10% of H.S. class\n",
    "* Top25perc Pct. new students from top 25% of H.S. class\n",
    "* F.Undergrad Number of fulltime undergraduates\n",
    "* P.Undergrad Number of parttime undergraduates\n",
    "* Outstate Out-of-state tuition\n",
    "* Room.Board Room and board costs\n",
    "* Books Estimated book costs\n",
    "* Personal Estimated personal spending\n",
    "* PhD Pct. of faculty with Ph.D.’s\n",
    "* Terminal Pct. of faculty with terminal degree\n",
    "* S.F.Ratio Student/faculty ratio\n",
    "* perc.alumni Pct. alumni who donate\n",
    "* Expend Instructional expenditure per student\n",
    "* Grad.Rate Graduation rate"
   ]
  },
  {
   "cell_type": "code",
   "execution_count": 4,
   "metadata": {},
   "outputs": [
    {
     "name": "stdout",
     "output_type": "stream",
     "text": [
      "<class 'pandas.core.frame.DataFrame'>\n",
      "Index: 777 entries, Abilene Christian University to York College of Pennsylvania\n",
      "Data columns (total 18 columns):\n",
      " #   Column       Non-Null Count  Dtype  \n",
      "---  ------       --------------  -----  \n",
      " 0   Private      777 non-null    object \n",
      " 1   Apps         777 non-null    int64  \n",
      " 2   Accept       777 non-null    int64  \n",
      " 3   Enroll       777 non-null    int64  \n",
      " 4   Top10perc    777 non-null    int64  \n",
      " 5   Top25perc    777 non-null    int64  \n",
      " 6   F.Undergrad  777 non-null    int64  \n",
      " 7   P.Undergrad  777 non-null    int64  \n",
      " 8   Outstate     777 non-null    int64  \n",
      " 9   Room.Board   777 non-null    int64  \n",
      " 10  Books        777 non-null    int64  \n",
      " 11  Personal     777 non-null    int64  \n",
      " 12  PhD          777 non-null    int64  \n",
      " 13  Terminal     777 non-null    int64  \n",
      " 14  S.F.Ratio    777 non-null    float64\n",
      " 15  perc.alumni  777 non-null    int64  \n",
      " 16  Expend       777 non-null    int64  \n",
      " 17  Grad.Rate    777 non-null    int64  \n",
      "dtypes: float64(1), int64(16), object(1)\n",
      "memory usage: 115.3+ KB\n"
     ]
    }
   ],
   "source": [
    "df.info()"
   ]
  },
  {
   "cell_type": "code",
   "execution_count": 5,
   "metadata": {},
   "outputs": [
    {
     "data": {
      "text/html": [
       "<div>\n",
       "<style scoped>\n",
       "    .dataframe tbody tr th:only-of-type {\n",
       "        vertical-align: middle;\n",
       "    }\n",
       "\n",
       "    .dataframe tbody tr th {\n",
       "        vertical-align: top;\n",
       "    }\n",
       "\n",
       "    .dataframe thead th {\n",
       "        text-align: right;\n",
       "    }\n",
       "</style>\n",
       "<table border=\"1\" class=\"dataframe\">\n",
       "  <thead>\n",
       "    <tr style=\"text-align: right;\">\n",
       "      <th></th>\n",
       "      <th>Apps</th>\n",
       "      <th>Accept</th>\n",
       "      <th>Enroll</th>\n",
       "      <th>Top10perc</th>\n",
       "      <th>Top25perc</th>\n",
       "      <th>F.Undergrad</th>\n",
       "      <th>P.Undergrad</th>\n",
       "      <th>Outstate</th>\n",
       "      <th>Room.Board</th>\n",
       "      <th>Books</th>\n",
       "      <th>Personal</th>\n",
       "      <th>PhD</th>\n",
       "      <th>Terminal</th>\n",
       "      <th>S.F.Ratio</th>\n",
       "      <th>perc.alumni</th>\n",
       "      <th>Expend</th>\n",
       "      <th>Grad.Rate</th>\n",
       "    </tr>\n",
       "  </thead>\n",
       "  <tbody>\n",
       "    <tr>\n",
       "      <th>count</th>\n",
       "      <td>777.000000</td>\n",
       "      <td>777.000000</td>\n",
       "      <td>777.000000</td>\n",
       "      <td>777.000000</td>\n",
       "      <td>777.000000</td>\n",
       "      <td>777.000000</td>\n",
       "      <td>777.000000</td>\n",
       "      <td>777.000000</td>\n",
       "      <td>777.000000</td>\n",
       "      <td>777.000000</td>\n",
       "      <td>777.000000</td>\n",
       "      <td>777.000000</td>\n",
       "      <td>777.000000</td>\n",
       "      <td>777.000000</td>\n",
       "      <td>777.000000</td>\n",
       "      <td>777.000000</td>\n",
       "      <td>777.00000</td>\n",
       "    </tr>\n",
       "    <tr>\n",
       "      <th>mean</th>\n",
       "      <td>3001.638353</td>\n",
       "      <td>2018.804376</td>\n",
       "      <td>779.972973</td>\n",
       "      <td>27.558559</td>\n",
       "      <td>55.796654</td>\n",
       "      <td>3699.907336</td>\n",
       "      <td>855.298584</td>\n",
       "      <td>10440.669241</td>\n",
       "      <td>4357.526384</td>\n",
       "      <td>549.380952</td>\n",
       "      <td>1340.642214</td>\n",
       "      <td>72.660232</td>\n",
       "      <td>79.702703</td>\n",
       "      <td>14.089704</td>\n",
       "      <td>22.743887</td>\n",
       "      <td>9660.171171</td>\n",
       "      <td>65.46332</td>\n",
       "    </tr>\n",
       "    <tr>\n",
       "      <th>std</th>\n",
       "      <td>3870.201484</td>\n",
       "      <td>2451.113971</td>\n",
       "      <td>929.176190</td>\n",
       "      <td>17.640364</td>\n",
       "      <td>19.804778</td>\n",
       "      <td>4850.420531</td>\n",
       "      <td>1522.431887</td>\n",
       "      <td>4023.016484</td>\n",
       "      <td>1096.696416</td>\n",
       "      <td>165.105360</td>\n",
       "      <td>677.071454</td>\n",
       "      <td>16.328155</td>\n",
       "      <td>14.722359</td>\n",
       "      <td>3.958349</td>\n",
       "      <td>12.391801</td>\n",
       "      <td>5221.768440</td>\n",
       "      <td>17.17771</td>\n",
       "    </tr>\n",
       "    <tr>\n",
       "      <th>min</th>\n",
       "      <td>81.000000</td>\n",
       "      <td>72.000000</td>\n",
       "      <td>35.000000</td>\n",
       "      <td>1.000000</td>\n",
       "      <td>9.000000</td>\n",
       "      <td>139.000000</td>\n",
       "      <td>1.000000</td>\n",
       "      <td>2340.000000</td>\n",
       "      <td>1780.000000</td>\n",
       "      <td>96.000000</td>\n",
       "      <td>250.000000</td>\n",
       "      <td>8.000000</td>\n",
       "      <td>24.000000</td>\n",
       "      <td>2.500000</td>\n",
       "      <td>0.000000</td>\n",
       "      <td>3186.000000</td>\n",
       "      <td>10.00000</td>\n",
       "    </tr>\n",
       "    <tr>\n",
       "      <th>25%</th>\n",
       "      <td>776.000000</td>\n",
       "      <td>604.000000</td>\n",
       "      <td>242.000000</td>\n",
       "      <td>15.000000</td>\n",
       "      <td>41.000000</td>\n",
       "      <td>992.000000</td>\n",
       "      <td>95.000000</td>\n",
       "      <td>7320.000000</td>\n",
       "      <td>3597.000000</td>\n",
       "      <td>470.000000</td>\n",
       "      <td>850.000000</td>\n",
       "      <td>62.000000</td>\n",
       "      <td>71.000000</td>\n",
       "      <td>11.500000</td>\n",
       "      <td>13.000000</td>\n",
       "      <td>6751.000000</td>\n",
       "      <td>53.00000</td>\n",
       "    </tr>\n",
       "    <tr>\n",
       "      <th>50%</th>\n",
       "      <td>1558.000000</td>\n",
       "      <td>1110.000000</td>\n",
       "      <td>434.000000</td>\n",
       "      <td>23.000000</td>\n",
       "      <td>54.000000</td>\n",
       "      <td>1707.000000</td>\n",
       "      <td>353.000000</td>\n",
       "      <td>9990.000000</td>\n",
       "      <td>4200.000000</td>\n",
       "      <td>500.000000</td>\n",
       "      <td>1200.000000</td>\n",
       "      <td>75.000000</td>\n",
       "      <td>82.000000</td>\n",
       "      <td>13.600000</td>\n",
       "      <td>21.000000</td>\n",
       "      <td>8377.000000</td>\n",
       "      <td>65.00000</td>\n",
       "    </tr>\n",
       "    <tr>\n",
       "      <th>75%</th>\n",
       "      <td>3624.000000</td>\n",
       "      <td>2424.000000</td>\n",
       "      <td>902.000000</td>\n",
       "      <td>35.000000</td>\n",
       "      <td>69.000000</td>\n",
       "      <td>4005.000000</td>\n",
       "      <td>967.000000</td>\n",
       "      <td>12925.000000</td>\n",
       "      <td>5050.000000</td>\n",
       "      <td>600.000000</td>\n",
       "      <td>1700.000000</td>\n",
       "      <td>85.000000</td>\n",
       "      <td>92.000000</td>\n",
       "      <td>16.500000</td>\n",
       "      <td>31.000000</td>\n",
       "      <td>10830.000000</td>\n",
       "      <td>78.00000</td>\n",
       "    </tr>\n",
       "    <tr>\n",
       "      <th>max</th>\n",
       "      <td>48094.000000</td>\n",
       "      <td>26330.000000</td>\n",
       "      <td>6392.000000</td>\n",
       "      <td>96.000000</td>\n",
       "      <td>100.000000</td>\n",
       "      <td>31643.000000</td>\n",
       "      <td>21836.000000</td>\n",
       "      <td>21700.000000</td>\n",
       "      <td>8124.000000</td>\n",
       "      <td>2340.000000</td>\n",
       "      <td>6800.000000</td>\n",
       "      <td>103.000000</td>\n",
       "      <td>100.000000</td>\n",
       "      <td>39.800000</td>\n",
       "      <td>64.000000</td>\n",
       "      <td>56233.000000</td>\n",
       "      <td>118.00000</td>\n",
       "    </tr>\n",
       "  </tbody>\n",
       "</table>\n",
       "</div>"
      ],
      "text/plain": [
       "               Apps        Accept       Enroll   Top10perc   Top25perc  \\\n",
       "count    777.000000    777.000000   777.000000  777.000000  777.000000   \n",
       "mean    3001.638353   2018.804376   779.972973   27.558559   55.796654   \n",
       "std     3870.201484   2451.113971   929.176190   17.640364   19.804778   \n",
       "min       81.000000     72.000000    35.000000    1.000000    9.000000   \n",
       "25%      776.000000    604.000000   242.000000   15.000000   41.000000   \n",
       "50%     1558.000000   1110.000000   434.000000   23.000000   54.000000   \n",
       "75%     3624.000000   2424.000000   902.000000   35.000000   69.000000   \n",
       "max    48094.000000  26330.000000  6392.000000   96.000000  100.000000   \n",
       "\n",
       "        F.Undergrad   P.Undergrad      Outstate   Room.Board        Books  \\\n",
       "count    777.000000    777.000000    777.000000   777.000000   777.000000   \n",
       "mean    3699.907336    855.298584  10440.669241  4357.526384   549.380952   \n",
       "std     4850.420531   1522.431887   4023.016484  1096.696416   165.105360   \n",
       "min      139.000000      1.000000   2340.000000  1780.000000    96.000000   \n",
       "25%      992.000000     95.000000   7320.000000  3597.000000   470.000000   \n",
       "50%     1707.000000    353.000000   9990.000000  4200.000000   500.000000   \n",
       "75%     4005.000000    967.000000  12925.000000  5050.000000   600.000000   \n",
       "max    31643.000000  21836.000000  21700.000000  8124.000000  2340.000000   \n",
       "\n",
       "          Personal         PhD    Terminal   S.F.Ratio  perc.alumni  \\\n",
       "count   777.000000  777.000000  777.000000  777.000000   777.000000   \n",
       "mean   1340.642214   72.660232   79.702703   14.089704    22.743887   \n",
       "std     677.071454   16.328155   14.722359    3.958349    12.391801   \n",
       "min     250.000000    8.000000   24.000000    2.500000     0.000000   \n",
       "25%     850.000000   62.000000   71.000000   11.500000    13.000000   \n",
       "50%    1200.000000   75.000000   82.000000   13.600000    21.000000   \n",
       "75%    1700.000000   85.000000   92.000000   16.500000    31.000000   \n",
       "max    6800.000000  103.000000  100.000000   39.800000    64.000000   \n",
       "\n",
       "             Expend  Grad.Rate  \n",
       "count    777.000000  777.00000  \n",
       "mean    9660.171171   65.46332  \n",
       "std     5221.768440   17.17771  \n",
       "min     3186.000000   10.00000  \n",
       "25%     6751.000000   53.00000  \n",
       "50%     8377.000000   65.00000  \n",
       "75%    10830.000000   78.00000  \n",
       "max    56233.000000  118.00000  "
      ]
     },
     "execution_count": 5,
     "metadata": {},
     "output_type": "execute_result"
    }
   ],
   "source": [
    "df.describe()"
   ]
  },
  {
   "cell_type": "markdown",
   "metadata": {},
   "source": [
    "# EDA"
   ]
  },
  {
   "cell_type": "markdown",
   "metadata": {},
   "source": [
    "## Create a scatterplot of Grad.Rate versus Room.Board where the points are colored by the Private column. "
   ]
  },
  {
   "cell_type": "code",
   "execution_count": 7,
   "metadata": {},
   "outputs": [
    {
     "data": {
      "application/vnd.plotly.v1+json": {
       "config": {
        "plotlyServerURL": "https://plot.ly"
       },
       "data": [
        {
         "hovertemplate": "Private=Yes<br>Room.Board=%{x}<br>Grad.Rate=%{y}<extra></extra>",
         "legendgroup": "Yes",
         "marker": {
          "color": "#636efa",
          "symbol": "circle"
         },
         "mode": "markers",
         "name": "Yes",
         "orientation": "v",
         "showlegend": true,
         "type": "scatter",
         "x": [
          3300,
          6450,
          3750,
          5450,
          4120,
          3335,
          5720,
          4826,
          4400,
          3380,
          5406,
          4440,
          4785,
          4552,
          3640,
          4780,
          5300,
          3520,
          3090,
          3336,
          4124,
          3922,
          5920,
          4372,
          4173,
          3244,
          4342,
          4135,
          4100,
          4410,
          4300,
          6206,
          8124,
          5360,
          3920,
          5400,
          2950,
          4850,
          3664,
          3616,
          3850,
          4100,
          5510,
          3940,
          3363,
          3580,
          2900,
          3396,
          4325,
          2700,
          4350,
          3990,
          6810,
          5885,
          6270,
          4440,
          6750,
          5879,
          2370,
          3597,
          4725,
          3580,
          5926,
          6750,
          4750,
          3797,
          4650,
          6250,
          4600,
          5300,
          3710,
          2790,
          3070,
          5340,
          4000,
          2812,
          3957,
          5690,
          3880,
          3150,
          3775,
          4730,
          4100,
          6408,
          4840,
          5285,
          4410,
          5400,
          3490,
          6643,
          3660,
          3080,
          4270,
          5895,
          5230,
          5015,
          3600,
          3260,
          2460,
          6010,
          4200,
          3676,
          5580,
          4390,
          4502,
          5590,
          5565,
          5760,
          4430,
          5770,
          5520,
          5620,
          4221,
          4440,
          5250,
          5666,
          4138,
          4850,
          3696,
          6300,
          4690,
          4190,
          3700,
          3975,
          6664,
          3750,
          3800,
          4440,
          4191,
          6300,
          3700,
          4323,
          4372,
          3700,
          3526,
          4310,
          3322,
          4934,
          6070,
          5070,
          3670,
          4720,
          5020,
          5000,
          3650,
          3000,
          5500,
          2650,
          3100,
          4770,
          5616,
          3523,
          5950,
          4056,
          2780,
          4800,
          3800,
          3500,
          4080,
          4400,
          4980,
          4765,
          3883,
          3750,
          4408,
          6000,
          3840,
          3450,
          6200,
          4200,
          3200,
          4140,
          4865,
          4100,
          6965,
          4400,
          4040,
          4630,
          3340,
          3670,
          4048,
          4280,
          4270,
          4820,
          4130,
          6328,
          3950,
          7131,
          3950,
          4328,
          2985,
          4450,
          4070,
          3730,
          6174,
          3670,
          3100,
          2700,
          3770,
          4530,
          4618,
          3048,
          5160,
          3600,
          5550,
          5050,
          4194,
          4773,
          3518,
          3485,
          2980,
          3528,
          4780,
          6410,
          6690,
          3272,
          3195,
          4700,
          4560,
          5841,
          5920,
          5515,
          6040,
          4341,
          3550,
          3920,
          3920,
          3090,
          4000,
          4348,
          3850,
          4620,
          4090,
          5364,
          4689,
          3782,
          6790,
          6192,
          3050,
          3672,
          5550,
          6740,
          4554,
          4460,
          3250,
          4150,
          3690,
          4550,
          5160,
          3350,
          4062,
          4782,
          5610,
          5740,
          3585,
          3970,
          4005,
          3430,
          3891,
          4840,
          4755,
          5580,
          4000,
          5300,
          4240,
          4790,
          4520,
          2890,
          4800,
          4210,
          3400,
          4000,
          3036,
          6300,
          5916,
          5870,
          5330,
          3560,
          4300,
          5400,
          4772,
          3750,
          3700,
          3850,
          6800,
          6550,
          3400,
          3920,
          5925,
          4760,
          4010,
          7400,
          6450,
          7000,
          5280,
          4208,
          4550,
          4500,
          5975,
          3740,
          3452,
          3750,
          4081,
          4050,
          3250,
          6200,
          5080,
          3720,
          3300,
          4378,
          4402,
          3255,
          2830,
          5050,
          4100,
          5290,
          3372,
          4730,
          5490,
          3678,
          2550,
          5700,
          2980,
          3119,
          3555,
          3650,
          6200,
          4600,
          5678,
          3530,
          3346,
          4565,
          3914,
          4500,
          5150,
          7262,
          2600,
          4762,
          4230,
          7398,
          4345,
          7425,
          2820,
          3075,
          5520,
          5270,
          4900,
          5820,
          5140,
          4340,
          4080,
          5650,
          3140,
          3150,
          4440,
          2800,
          3644,
          5160,
          4488,
          3825,
          3994,
          6770,
          3700,
          5062,
          3860,
          3620,
          3000,
          5900,
          4190,
          4830,
          4200,
          3635,
          5910,
          6200,
          4970,
          4140,
          6140,
          3735,
          6110,
          5490,
          5800,
          5976,
          4768,
          5420,
          4100,
          4860,
          4425,
          4100,
          3362,
          6050,
          5220,
          4600,
          5780,
          4020,
          5400,
          3820,
          5050,
          4081,
          4250,
          5180,
          6350,
          4600,
          4730,
          4514,
          3600,
          4130,
          5860,
          3750,
          5520,
          3936,
          4624,
          3952,
          6300,
          3700,
          5928,
          6694,
          5000,
          5900,
          7350,
          4875,
          4375,
          6484,
          4180,
          3600,
          5100,
          3880,
          6950,
          4980,
          3064,
          5970,
          6390,
          4124,
          5078,
          2500,
          3736,
          3532,
          4675,
          2800,
          5565,
          3550,
          4927,
          5450,
          5600,
          5730,
          4270,
          6354,
          3858,
          4450,
          3650,
          5700,
          5200,
          4565,
          5680,
          6172,
          4710,
          6000,
          6870,
          3410,
          2964,
          4000,
          3640,
          3320,
          3410,
          3484,
          4958,
          3800,
          4450,
          4350,
          5690,
          6430,
          5208,
          5150,
          5950,
          3400,
          3395,
          2950,
          6204,
          3540,
          6380,
          6230,
          4220,
          4230,
          4695,
          3996,
          3620,
          4340,
          6000,
          4080,
          5050,
          6526,
          3680,
          5045,
          4400,
          7270,
          4100,
          4500,
          3285,
          6582,
          5940,
          6452,
          5986,
          6482,
          4037,
          4050,
          3860,
          5326,
          4080,
          4160,
          3060,
          5160,
          4202,
          3260,
          6525,
          5950,
          6507,
          3494,
          5100,
          3365,
          2522,
          4195,
          5800,
          4360,
          4180,
          3052,
          3610,
          4005,
          4619,
          5318,
          5775,
          3620,
          2900,
          4340,
          5995,
          5550,
          6050,
          4674,
          5600,
          3775,
          5340,
          5500,
          4050,
          3615,
          4050,
          4200,
          5970,
          4545,
          4900,
          5699,
          4500,
          5370,
          5130,
          4620,
          2970,
          4365,
          5790,
          5084,
          3400,
          3700,
          4404,
          4150,
          5370,
          4960,
          4200,
          6510,
          3560
         ],
         "xaxis": "x",
         "y": [
          60,
          56,
          54,
          59,
          15,
          55,
          63,
          73,
          80,
          52,
          73,
          76,
          74,
          68,
          55,
          69,
          100,
          59,
          46,
          48,
          65,
          54,
          88,
          58,
          71,
          69,
          71,
          48,
          65,
          85,
          71,
          79,
          91,
          72,
          72,
          73,
          84,
          52,
          49,
          69,
          58,
          55,
          82,
          63,
          48,
          56,
          35,
          58,
          72,
          51,
          53,
          58,
          72,
          96,
          46,
          85,
          84,
          49,
          18,
          58,
          82,
          33,
          97,
          89,
          93,
          78,
          83,
          71,
          55,
          60,
          81,
          63,
          49,
          64,
          83,
          52,
          91,
          74,
          79,
          67,
          62,
          67,
          55,
          75,
          118,
          74,
          64,
          24,
          66,
          47,
          67,
          58,
          74,
          47,
          52,
          73,
          58,
          63,
          21,
          87,
          79,
          74,
          77,
          67,
          75,
          91,
          93,
          96,
          100,
          83,
          43,
          75,
          72,
          77,
          78,
          64,
          80,
          76,
          72,
          95,
          69,
          84,
          37,
          76,
          99,
          45,
          42,
          55,
          75,
          91,
          75,
          64,
          85,
          51,
          63,
          46,
          54,
          72,
          98,
          94,
          56,
          81,
          82,
          87,
          61,
          60,
          54,
          87,
          42,
          77,
          83,
          67,
          97,
          78,
          38,
          54,
          82,
          70,
          59,
          81,
          64,
          86,
          63,
          44,
          82,
          96,
          67,
          53,
          94,
          22,
          69,
          57,
          68,
          62,
          80,
          83,
          60,
          51,
          62,
          54,
          82,
          65,
          29,
          74,
          52,
          72,
          55,
          95,
          76,
          83,
          36,
          69,
          66,
          72,
          77,
          64,
          47,
          76,
          39,
          60,
          83,
          100,
          65,
          80,
          96,
          91,
          65,
          69,
          70,
          64,
          38,
          73,
          73,
          100,
          100,
          52,
          63,
          79,
          79,
          79,
          60,
          72,
          72,
          72,
          67,
          44,
          47,
          21,
          84,
          75,
          52,
          56,
          83,
          69,
          95,
          34,
          66,
          75,
          54,
          75,
          89,
          90,
          56,
          80,
          68,
          62,
          88,
          51,
          87,
          65,
          79,
          52,
          84,
          92,
          75,
          77,
          57,
          60,
          77,
          94,
          85,
          91,
          66,
          58,
          56,
          69,
          61,
          53,
          100,
          81,
          92,
          70,
          59,
          80,
          84,
          53,
          65,
          77,
          72,
          70,
          77,
          59,
          55,
          64,
          79,
          70,
          59,
          96,
          69,
          77,
          50,
          90,
          77,
          68,
          55,
          51,
          61,
          66,
          94,
          52,
          32,
          48,
          91,
          78,
          82,
          80,
          89,
          49,
          64,
          75,
          58,
          67,
          61,
          27,
          56,
          54,
          15,
          74,
          83,
          56,
          60,
          84,
          44,
          78,
          64,
          21,
          80,
          88,
          72,
          81,
          58,
          83,
          73,
          71,
          61,
          71,
          83,
          65,
          52,
          76,
          74,
          46,
          58,
          68,
          92,
          63,
          33,
          83,
          79,
          67,
          83,
          75,
          50,
          45,
          87,
          65,
          37,
          62,
          83,
          69,
          42,
          66,
          48,
          68,
          39,
          31,
          61,
          73,
          54,
          66,
          62,
          85,
          99,
          96,
          58,
          80,
          86,
          74,
          68,
          68,
          84,
          70,
          77,
          70,
          64,
          81,
          72,
          79,
          68,
          61,
          90,
          81,
          82,
          70,
          97,
          48,
          69,
          70,
          67,
          85,
          83,
          76,
          67,
          98,
          78,
          75,
          84,
          83,
          53,
          88,
          55,
          98,
          60,
          61,
          100,
          83,
          55,
          52,
          73,
          66,
          89,
          64,
          71,
          58,
          100,
          47,
          79,
          70,
          48,
          81,
          90,
          43,
          72,
          71,
          36,
          52,
          67,
          89,
          65,
          49,
          78,
          64,
          66,
          85,
          40,
          78,
          72,
          88,
          45,
          67,
          59,
          73,
          79,
          97,
          90,
          61,
          67,
          53,
          46,
          98,
          36,
          64,
          50,
          43,
          60,
          39,
          70,
          65,
          91,
          96,
          78,
          93,
          74,
          52,
          65,
          64,
          88,
          57,
          90,
          63,
          93,
          75,
          67,
          51,
          45,
          77,
          66,
          69,
          47,
          59,
          52,
          64,
          97,
          93,
          72,
          63,
          100,
          80,
          66,
          62,
          92,
          68,
          89,
          62,
          57,
          65,
          82,
          47,
          78,
          79,
          68,
          95,
          83,
          90,
          96,
          30,
          68,
          73,
          58,
          72,
          75,
          89,
          68,
          63,
          67,
          86,
          90,
          65,
          90,
          63,
          90,
          48,
          91,
          69,
          64,
          84,
          92,
          67,
          60,
          59,
          62,
          80,
          50,
          85,
          71,
          72,
          72,
          52,
          80,
          63,
          67,
          68,
          59,
          52,
          99,
          67,
          91,
          50,
          78,
          75,
          82,
          83,
          49,
          99,
          99
         ],
         "yaxis": "y"
        },
        {
         "hovertemplate": "Private=No<br>Room.Board=%{x}<br>Grad.Rate=%{y}<extra></extra>",
         "legendgroup": "No",
         "marker": {
          "color": "#EF553B",
          "symbol": "circle"
         },
         "mode": "markers",
         "name": "No",
         "orientation": "v",
         "showlegend": true,
         "type": "scatter",
         "x": [
          3592,
          2540,
          4850,
          2650,
          3933,
          2700,
          2948,
          3352,
          4877,
          4368,
          4690,
          4444,
          3288,
          3603,
          4750,
          3610,
          3689,
          3460,
          4298,
          4180,
          1880,
          2146,
          3240,
          3000,
          4316,
          3066,
          3144,
          4600,
          2550,
          2494,
          4060,
          3320,
          3138,
          4840,
          4438,
          2655,
          3800,
          3403,
          3706,
          3990,
          3224,
          4544,
          4800,
          4690,
          3120,
          4157,
          3040,
          2987,
          3400,
          3620,
          3962,
          2980,
          2325,
          4640,
          2643,
          4942,
          2516,
          3798,
          3960,
          3734,
          3978,
          3830,
          3084,
          2217,
          2852,
          3400,
          3710,
          4834,
          2664,
          3110,
          5376,
          3214,
          4330,
          1780,
          6540,
          2744,
          3416,
          3728,
          3296,
          3136,
          4030,
          4095,
          3344,
          2760,
          4060,
          2624,
          3500,
          3990,
          4110,
          4860,
          4830,
          4748,
          4748,
          4748,
          2625,
          4690,
          5110,
          3504,
          2190,
          3540,
          2619,
          3598,
          2590,
          2750,
          4730,
          4351,
          4355,
          4598,
          4731,
          4712,
          4460,
          4810,
          4040,
          4680,
          4420,
          4170,
          4240,
          4176,
          4660,
          4760,
          3412,
          3122,
          3360,
          2439,
          5411,
          2394,
          5175,
          3300,
          6246,
          5302,
          4234,
          4697,
          5072,
          4180,
          3600,
          3038,
          4574,
          5088,
          3384,
          3600,
          3970,
          3680,
          3630,
          4408,
          5146,
          3897,
          4500,
          4659,
          3474,
          3180,
          3744,
          3810,
          3485,
          3600,
          3964,
          3030,
          3145,
          3862,
          3420,
          4200,
          3109,
          3505,
          3680,
          2703,
          4360,
          3579,
          4128,
          2930,
          3526,
          3660,
          4560,
          5558,
          1920,
          3066,
          3522,
          3776,
          4380,
          3192,
          2470,
          3262,
          2780,
          3309,
          5376,
          3975,
          4928,
          3792,
          4218,
          3994,
          2592,
          2780,
          2500,
          2800,
          4290,
          2964,
          3422,
          2570,
          4182,
          4845,
          3176,
          4210,
          2660,
          4108,
          2890,
          2380,
          4100,
          3755,
          4144,
          3788,
          5304,
          2700,
          3392,
          3900
         ],
         "xaxis": "x",
         "y": [
          34,
          70,
          48,
          48,
          69,
          46,
          75,
          67,
          59,
          61,
          79,
          49,
          50,
          51,
          48,
          73,
          46,
          51,
          93,
          59,
          58,
          46,
          58,
          42,
          50,
          76,
          50,
          68,
          24,
          66,
          58,
          46,
          43,
          46,
          70,
          34,
          57,
          54,
          40,
          68,
          65,
          98,
          26,
          36,
          54,
          61,
          26,
          51,
          45,
          63,
          62,
          37,
          45,
          51,
          68,
          84,
          51,
          59,
          85,
          71,
          65,
          71,
          53,
          63,
          100,
          74,
          37,
          58,
          60,
          52,
          72,
          34,
          57,
          44,
          62,
          42,
          76,
          41,
          56,
          54,
          53,
          64,
          48,
          48,
          63,
          44,
          35,
          67,
          62,
          47,
          51,
          77,
          57,
          58,
          58,
          56,
          41,
          72,
          67,
          45,
          53,
          43,
          56,
          51,
          63,
          64,
          74,
          80,
          56,
          57,
          49,
          63,
          42,
          53,
          66,
          76,
          53,
          65,
          59,
          46,
          69,
          43,
          10,
          84,
          81,
          56,
          33,
          39,
          78,
          66,
          46,
          54,
          71,
          66,
          63,
          54,
          81,
          34,
          57,
          31,
          59,
          64,
          35,
          55,
          63,
          68,
          56,
          87,
          53,
          51,
          45,
          53,
          58,
          49,
          48,
          51,
          53,
          75,
          37,
          83,
          62,
          53,
          55,
          49,
          47,
          35,
          40,
          77,
          44,
          54,
          66,
          63,
          43,
          48,
          63,
          47,
          36,
          38,
          45,
          53,
          29,
          65,
          50,
          37,
          79,
          95,
          65,
          53,
          65,
          36,
          67,
          46,
          72,
          38,
          45,
          40,
          45,
          31,
          73,
          56,
          52,
          52,
          60,
          55,
          55,
          52,
          61,
          65,
          87,
          58,
          59,
          40
         ],
         "yaxis": "y"
        }
       ],
       "layout": {
        "legend": {
         "title": {
          "text": "Private"
         },
         "tracegroupgap": 0
        },
        "margin": {
         "t": 60
        },
        "template": {
         "data": {
          "bar": [
           {
            "error_x": {
             "color": "#2a3f5f"
            },
            "error_y": {
             "color": "#2a3f5f"
            },
            "marker": {
             "line": {
              "color": "#E5ECF6",
              "width": 0.5
             },
             "pattern": {
              "fillmode": "overlay",
              "size": 10,
              "solidity": 0.2
             }
            },
            "type": "bar"
           }
          ],
          "barpolar": [
           {
            "marker": {
             "line": {
              "color": "#E5ECF6",
              "width": 0.5
             },
             "pattern": {
              "fillmode": "overlay",
              "size": 10,
              "solidity": 0.2
             }
            },
            "type": "barpolar"
           }
          ],
          "carpet": [
           {
            "aaxis": {
             "endlinecolor": "#2a3f5f",
             "gridcolor": "white",
             "linecolor": "white",
             "minorgridcolor": "white",
             "startlinecolor": "#2a3f5f"
            },
            "baxis": {
             "endlinecolor": "#2a3f5f",
             "gridcolor": "white",
             "linecolor": "white",
             "minorgridcolor": "white",
             "startlinecolor": "#2a3f5f"
            },
            "type": "carpet"
           }
          ],
          "choropleth": [
           {
            "colorbar": {
             "outlinewidth": 0,
             "ticks": ""
            },
            "type": "choropleth"
           }
          ],
          "contour": [
           {
            "colorbar": {
             "outlinewidth": 0,
             "ticks": ""
            },
            "colorscale": [
             [
              0,
              "#0d0887"
             ],
             [
              0.1111111111111111,
              "#46039f"
             ],
             [
              0.2222222222222222,
              "#7201a8"
             ],
             [
              0.3333333333333333,
              "#9c179e"
             ],
             [
              0.4444444444444444,
              "#bd3786"
             ],
             [
              0.5555555555555556,
              "#d8576b"
             ],
             [
              0.6666666666666666,
              "#ed7953"
             ],
             [
              0.7777777777777778,
              "#fb9f3a"
             ],
             [
              0.8888888888888888,
              "#fdca26"
             ],
             [
              1,
              "#f0f921"
             ]
            ],
            "type": "contour"
           }
          ],
          "contourcarpet": [
           {
            "colorbar": {
             "outlinewidth": 0,
             "ticks": ""
            },
            "type": "contourcarpet"
           }
          ],
          "heatmap": [
           {
            "colorbar": {
             "outlinewidth": 0,
             "ticks": ""
            },
            "colorscale": [
             [
              0,
              "#0d0887"
             ],
             [
              0.1111111111111111,
              "#46039f"
             ],
             [
              0.2222222222222222,
              "#7201a8"
             ],
             [
              0.3333333333333333,
              "#9c179e"
             ],
             [
              0.4444444444444444,
              "#bd3786"
             ],
             [
              0.5555555555555556,
              "#d8576b"
             ],
             [
              0.6666666666666666,
              "#ed7953"
             ],
             [
              0.7777777777777778,
              "#fb9f3a"
             ],
             [
              0.8888888888888888,
              "#fdca26"
             ],
             [
              1,
              "#f0f921"
             ]
            ],
            "type": "heatmap"
           }
          ],
          "heatmapgl": [
           {
            "colorbar": {
             "outlinewidth": 0,
             "ticks": ""
            },
            "colorscale": [
             [
              0,
              "#0d0887"
             ],
             [
              0.1111111111111111,
              "#46039f"
             ],
             [
              0.2222222222222222,
              "#7201a8"
             ],
             [
              0.3333333333333333,
              "#9c179e"
             ],
             [
              0.4444444444444444,
              "#bd3786"
             ],
             [
              0.5555555555555556,
              "#d8576b"
             ],
             [
              0.6666666666666666,
              "#ed7953"
             ],
             [
              0.7777777777777778,
              "#fb9f3a"
             ],
             [
              0.8888888888888888,
              "#fdca26"
             ],
             [
              1,
              "#f0f921"
             ]
            ],
            "type": "heatmapgl"
           }
          ],
          "histogram": [
           {
            "marker": {
             "pattern": {
              "fillmode": "overlay",
              "size": 10,
              "solidity": 0.2
             }
            },
            "type": "histogram"
           }
          ],
          "histogram2d": [
           {
            "colorbar": {
             "outlinewidth": 0,
             "ticks": ""
            },
            "colorscale": [
             [
              0,
              "#0d0887"
             ],
             [
              0.1111111111111111,
              "#46039f"
             ],
             [
              0.2222222222222222,
              "#7201a8"
             ],
             [
              0.3333333333333333,
              "#9c179e"
             ],
             [
              0.4444444444444444,
              "#bd3786"
             ],
             [
              0.5555555555555556,
              "#d8576b"
             ],
             [
              0.6666666666666666,
              "#ed7953"
             ],
             [
              0.7777777777777778,
              "#fb9f3a"
             ],
             [
              0.8888888888888888,
              "#fdca26"
             ],
             [
              1,
              "#f0f921"
             ]
            ],
            "type": "histogram2d"
           }
          ],
          "histogram2dcontour": [
           {
            "colorbar": {
             "outlinewidth": 0,
             "ticks": ""
            },
            "colorscale": [
             [
              0,
              "#0d0887"
             ],
             [
              0.1111111111111111,
              "#46039f"
             ],
             [
              0.2222222222222222,
              "#7201a8"
             ],
             [
              0.3333333333333333,
              "#9c179e"
             ],
             [
              0.4444444444444444,
              "#bd3786"
             ],
             [
              0.5555555555555556,
              "#d8576b"
             ],
             [
              0.6666666666666666,
              "#ed7953"
             ],
             [
              0.7777777777777778,
              "#fb9f3a"
             ],
             [
              0.8888888888888888,
              "#fdca26"
             ],
             [
              1,
              "#f0f921"
             ]
            ],
            "type": "histogram2dcontour"
           }
          ],
          "mesh3d": [
           {
            "colorbar": {
             "outlinewidth": 0,
             "ticks": ""
            },
            "type": "mesh3d"
           }
          ],
          "parcoords": [
           {
            "line": {
             "colorbar": {
              "outlinewidth": 0,
              "ticks": ""
             }
            },
            "type": "parcoords"
           }
          ],
          "pie": [
           {
            "automargin": true,
            "type": "pie"
           }
          ],
          "scatter": [
           {
            "fillpattern": {
             "fillmode": "overlay",
             "size": 10,
             "solidity": 0.2
            },
            "type": "scatter"
           }
          ],
          "scatter3d": [
           {
            "line": {
             "colorbar": {
              "outlinewidth": 0,
              "ticks": ""
             }
            },
            "marker": {
             "colorbar": {
              "outlinewidth": 0,
              "ticks": ""
             }
            },
            "type": "scatter3d"
           }
          ],
          "scattercarpet": [
           {
            "marker": {
             "colorbar": {
              "outlinewidth": 0,
              "ticks": ""
             }
            },
            "type": "scattercarpet"
           }
          ],
          "scattergeo": [
           {
            "marker": {
             "colorbar": {
              "outlinewidth": 0,
              "ticks": ""
             }
            },
            "type": "scattergeo"
           }
          ],
          "scattergl": [
           {
            "marker": {
             "colorbar": {
              "outlinewidth": 0,
              "ticks": ""
             }
            },
            "type": "scattergl"
           }
          ],
          "scattermapbox": [
           {
            "marker": {
             "colorbar": {
              "outlinewidth": 0,
              "ticks": ""
             }
            },
            "type": "scattermapbox"
           }
          ],
          "scatterpolar": [
           {
            "marker": {
             "colorbar": {
              "outlinewidth": 0,
              "ticks": ""
             }
            },
            "type": "scatterpolar"
           }
          ],
          "scatterpolargl": [
           {
            "marker": {
             "colorbar": {
              "outlinewidth": 0,
              "ticks": ""
             }
            },
            "type": "scatterpolargl"
           }
          ],
          "scatterternary": [
           {
            "marker": {
             "colorbar": {
              "outlinewidth": 0,
              "ticks": ""
             }
            },
            "type": "scatterternary"
           }
          ],
          "surface": [
           {
            "colorbar": {
             "outlinewidth": 0,
             "ticks": ""
            },
            "colorscale": [
             [
              0,
              "#0d0887"
             ],
             [
              0.1111111111111111,
              "#46039f"
             ],
             [
              0.2222222222222222,
              "#7201a8"
             ],
             [
              0.3333333333333333,
              "#9c179e"
             ],
             [
              0.4444444444444444,
              "#bd3786"
             ],
             [
              0.5555555555555556,
              "#d8576b"
             ],
             [
              0.6666666666666666,
              "#ed7953"
             ],
             [
              0.7777777777777778,
              "#fb9f3a"
             ],
             [
              0.8888888888888888,
              "#fdca26"
             ],
             [
              1,
              "#f0f921"
             ]
            ],
            "type": "surface"
           }
          ],
          "table": [
           {
            "cells": {
             "fill": {
              "color": "#EBF0F8"
             },
             "line": {
              "color": "white"
             }
            },
            "header": {
             "fill": {
              "color": "#C8D4E3"
             },
             "line": {
              "color": "white"
             }
            },
            "type": "table"
           }
          ]
         },
         "layout": {
          "annotationdefaults": {
           "arrowcolor": "#2a3f5f",
           "arrowhead": 0,
           "arrowwidth": 1
          },
          "autotypenumbers": "strict",
          "coloraxis": {
           "colorbar": {
            "outlinewidth": 0,
            "ticks": ""
           }
          },
          "colorscale": {
           "diverging": [
            [
             0,
             "#8e0152"
            ],
            [
             0.1,
             "#c51b7d"
            ],
            [
             0.2,
             "#de77ae"
            ],
            [
             0.3,
             "#f1b6da"
            ],
            [
             0.4,
             "#fde0ef"
            ],
            [
             0.5,
             "#f7f7f7"
            ],
            [
             0.6,
             "#e6f5d0"
            ],
            [
             0.7,
             "#b8e186"
            ],
            [
             0.8,
             "#7fbc41"
            ],
            [
             0.9,
             "#4d9221"
            ],
            [
             1,
             "#276419"
            ]
           ],
           "sequential": [
            [
             0,
             "#0d0887"
            ],
            [
             0.1111111111111111,
             "#46039f"
            ],
            [
             0.2222222222222222,
             "#7201a8"
            ],
            [
             0.3333333333333333,
             "#9c179e"
            ],
            [
             0.4444444444444444,
             "#bd3786"
            ],
            [
             0.5555555555555556,
             "#d8576b"
            ],
            [
             0.6666666666666666,
             "#ed7953"
            ],
            [
             0.7777777777777778,
             "#fb9f3a"
            ],
            [
             0.8888888888888888,
             "#fdca26"
            ],
            [
             1,
             "#f0f921"
            ]
           ],
           "sequentialminus": [
            [
             0,
             "#0d0887"
            ],
            [
             0.1111111111111111,
             "#46039f"
            ],
            [
             0.2222222222222222,
             "#7201a8"
            ],
            [
             0.3333333333333333,
             "#9c179e"
            ],
            [
             0.4444444444444444,
             "#bd3786"
            ],
            [
             0.5555555555555556,
             "#d8576b"
            ],
            [
             0.6666666666666666,
             "#ed7953"
            ],
            [
             0.7777777777777778,
             "#fb9f3a"
            ],
            [
             0.8888888888888888,
             "#fdca26"
            ],
            [
             1,
             "#f0f921"
            ]
           ]
          },
          "colorway": [
           "#636efa",
           "#EF553B",
           "#00cc96",
           "#ab63fa",
           "#FFA15A",
           "#19d3f3",
           "#FF6692",
           "#B6E880",
           "#FF97FF",
           "#FECB52"
          ],
          "font": {
           "color": "#2a3f5f"
          },
          "geo": {
           "bgcolor": "white",
           "lakecolor": "white",
           "landcolor": "#E5ECF6",
           "showlakes": true,
           "showland": true,
           "subunitcolor": "white"
          },
          "hoverlabel": {
           "align": "left"
          },
          "hovermode": "closest",
          "mapbox": {
           "style": "light"
          },
          "paper_bgcolor": "white",
          "plot_bgcolor": "#E5ECF6",
          "polar": {
           "angularaxis": {
            "gridcolor": "white",
            "linecolor": "white",
            "ticks": ""
           },
           "bgcolor": "#E5ECF6",
           "radialaxis": {
            "gridcolor": "white",
            "linecolor": "white",
            "ticks": ""
           }
          },
          "scene": {
           "xaxis": {
            "backgroundcolor": "#E5ECF6",
            "gridcolor": "white",
            "gridwidth": 2,
            "linecolor": "white",
            "showbackground": true,
            "ticks": "",
            "zerolinecolor": "white"
           },
           "yaxis": {
            "backgroundcolor": "#E5ECF6",
            "gridcolor": "white",
            "gridwidth": 2,
            "linecolor": "white",
            "showbackground": true,
            "ticks": "",
            "zerolinecolor": "white"
           },
           "zaxis": {
            "backgroundcolor": "#E5ECF6",
            "gridcolor": "white",
            "gridwidth": 2,
            "linecolor": "white",
            "showbackground": true,
            "ticks": "",
            "zerolinecolor": "white"
           }
          },
          "shapedefaults": {
           "line": {
            "color": "#2a3f5f"
           }
          },
          "ternary": {
           "aaxis": {
            "gridcolor": "white",
            "linecolor": "white",
            "ticks": ""
           },
           "baxis": {
            "gridcolor": "white",
            "linecolor": "white",
            "ticks": ""
           },
           "bgcolor": "#E5ECF6",
           "caxis": {
            "gridcolor": "white",
            "linecolor": "white",
            "ticks": ""
           }
          },
          "title": {
           "x": 0.05
          },
          "xaxis": {
           "automargin": true,
           "gridcolor": "white",
           "linecolor": "white",
           "ticks": "",
           "title": {
            "standoff": 15
           },
           "zerolinecolor": "white",
           "zerolinewidth": 2
          },
          "yaxis": {
           "automargin": true,
           "gridcolor": "white",
           "linecolor": "white",
           "ticks": "",
           "title": {
            "standoff": 15
           },
           "zerolinecolor": "white",
           "zerolinewidth": 2
          }
         }
        },
        "xaxis": {
         "anchor": "y",
         "domain": [
          0,
          1
         ],
         "title": {
          "text": "Room.Board"
         }
        },
        "yaxis": {
         "anchor": "x",
         "domain": [
          0,
          1
         ],
         "title": {
          "text": "Grad.Rate"
         }
        }
       }
      },
      "text/html": [
       "<div>                            <div id=\"46988879-caa8-4590-ab4a-b4485535206a\" class=\"plotly-graph-div\" style=\"height:525px; width:100%;\"></div>            <script type=\"text/javascript\">                require([\"plotly\"], function(Plotly) {                    window.PLOTLYENV=window.PLOTLYENV || {};                                    if (document.getElementById(\"46988879-caa8-4590-ab4a-b4485535206a\")) {                    Plotly.newPlot(                        \"46988879-caa8-4590-ab4a-b4485535206a\",                        [{\"hovertemplate\":\"Private=Yes<br>Room.Board=%{x}<br>Grad.Rate=%{y}<extra></extra>\",\"legendgroup\":\"Yes\",\"marker\":{\"color\":\"#636efa\",\"symbol\":\"circle\"},\"mode\":\"markers\",\"name\":\"Yes\",\"orientation\":\"v\",\"showlegend\":true,\"x\":[3300,6450,3750,5450,4120,3335,5720,4826,4400,3380,5406,4440,4785,4552,3640,4780,5300,3520,3090,3336,4124,3922,5920,4372,4173,3244,4342,4135,4100,4410,4300,6206,8124,5360,3920,5400,2950,4850,3664,3616,3850,4100,5510,3940,3363,3580,2900,3396,4325,2700,4350,3990,6810,5885,6270,4440,6750,5879,2370,3597,4725,3580,5926,6750,4750,3797,4650,6250,4600,5300,3710,2790,3070,5340,4000,2812,3957,5690,3880,3150,3775,4730,4100,6408,4840,5285,4410,5400,3490,6643,3660,3080,4270,5895,5230,5015,3600,3260,2460,6010,4200,3676,5580,4390,4502,5590,5565,5760,4430,5770,5520,5620,4221,4440,5250,5666,4138,4850,3696,6300,4690,4190,3700,3975,6664,3750,3800,4440,4191,6300,3700,4323,4372,3700,3526,4310,3322,4934,6070,5070,3670,4720,5020,5000,3650,3000,5500,2650,3100,4770,5616,3523,5950,4056,2780,4800,3800,3500,4080,4400,4980,4765,3883,3750,4408,6000,3840,3450,6200,4200,3200,4140,4865,4100,6965,4400,4040,4630,3340,3670,4048,4280,4270,4820,4130,6328,3950,7131,3950,4328,2985,4450,4070,3730,6174,3670,3100,2700,3770,4530,4618,3048,5160,3600,5550,5050,4194,4773,3518,3485,2980,3528,4780,6410,6690,3272,3195,4700,4560,5841,5920,5515,6040,4341,3550,3920,3920,3090,4000,4348,3850,4620,4090,5364,4689,3782,6790,6192,3050,3672,5550,6740,4554,4460,3250,4150,3690,4550,5160,3350,4062,4782,5610,5740,3585,3970,4005,3430,3891,4840,4755,5580,4000,5300,4240,4790,4520,2890,4800,4210,3400,4000,3036,6300,5916,5870,5330,3560,4300,5400,4772,3750,3700,3850,6800,6550,3400,3920,5925,4760,4010,7400,6450,7000,5280,4208,4550,4500,5975,3740,3452,3750,4081,4050,3250,6200,5080,3720,3300,4378,4402,3255,2830,5050,4100,5290,3372,4730,5490,3678,2550,5700,2980,3119,3555,3650,6200,4600,5678,3530,3346,4565,3914,4500,5150,7262,2600,4762,4230,7398,4345,7425,2820,3075,5520,5270,4900,5820,5140,4340,4080,5650,3140,3150,4440,2800,3644,5160,4488,3825,3994,6770,3700,5062,3860,3620,3000,5900,4190,4830,4200,3635,5910,6200,4970,4140,6140,3735,6110,5490,5800,5976,4768,5420,4100,4860,4425,4100,3362,6050,5220,4600,5780,4020,5400,3820,5050,4081,4250,5180,6350,4600,4730,4514,3600,4130,5860,3750,5520,3936,4624,3952,6300,3700,5928,6694,5000,5900,7350,4875,4375,6484,4180,3600,5100,3880,6950,4980,3064,5970,6390,4124,5078,2500,3736,3532,4675,2800,5565,3550,4927,5450,5600,5730,4270,6354,3858,4450,3650,5700,5200,4565,5680,6172,4710,6000,6870,3410,2964,4000,3640,3320,3410,3484,4958,3800,4450,4350,5690,6430,5208,5150,5950,3400,3395,2950,6204,3540,6380,6230,4220,4230,4695,3996,3620,4340,6000,4080,5050,6526,3680,5045,4400,7270,4100,4500,3285,6582,5940,6452,5986,6482,4037,4050,3860,5326,4080,4160,3060,5160,4202,3260,6525,5950,6507,3494,5100,3365,2522,4195,5800,4360,4180,3052,3610,4005,4619,5318,5775,3620,2900,4340,5995,5550,6050,4674,5600,3775,5340,5500,4050,3615,4050,4200,5970,4545,4900,5699,4500,5370,5130,4620,2970,4365,5790,5084,3400,3700,4404,4150,5370,4960,4200,6510,3560],\"xaxis\":\"x\",\"y\":[60,56,54,59,15,55,63,73,80,52,73,76,74,68,55,69,100,59,46,48,65,54,88,58,71,69,71,48,65,85,71,79,91,72,72,73,84,52,49,69,58,55,82,63,48,56,35,58,72,51,53,58,72,96,46,85,84,49,18,58,82,33,97,89,93,78,83,71,55,60,81,63,49,64,83,52,91,74,79,67,62,67,55,75,118,74,64,24,66,47,67,58,74,47,52,73,58,63,21,87,79,74,77,67,75,91,93,96,100,83,43,75,72,77,78,64,80,76,72,95,69,84,37,76,99,45,42,55,75,91,75,64,85,51,63,46,54,72,98,94,56,81,82,87,61,60,54,87,42,77,83,67,97,78,38,54,82,70,59,81,64,86,63,44,82,96,67,53,94,22,69,57,68,62,80,83,60,51,62,54,82,65,29,74,52,72,55,95,76,83,36,69,66,72,77,64,47,76,39,60,83,100,65,80,96,91,65,69,70,64,38,73,73,100,100,52,63,79,79,79,60,72,72,72,67,44,47,21,84,75,52,56,83,69,95,34,66,75,54,75,89,90,56,80,68,62,88,51,87,65,79,52,84,92,75,77,57,60,77,94,85,91,66,58,56,69,61,53,100,81,92,70,59,80,84,53,65,77,72,70,77,59,55,64,79,70,59,96,69,77,50,90,77,68,55,51,61,66,94,52,32,48,91,78,82,80,89,49,64,75,58,67,61,27,56,54,15,74,83,56,60,84,44,78,64,21,80,88,72,81,58,83,73,71,61,71,83,65,52,76,74,46,58,68,92,63,33,83,79,67,83,75,50,45,87,65,37,62,83,69,42,66,48,68,39,31,61,73,54,66,62,85,99,96,58,80,86,74,68,68,84,70,77,70,64,81,72,79,68,61,90,81,82,70,97,48,69,70,67,85,83,76,67,98,78,75,84,83,53,88,55,98,60,61,100,83,55,52,73,66,89,64,71,58,100,47,79,70,48,81,90,43,72,71,36,52,67,89,65,49,78,64,66,85,40,78,72,88,45,67,59,73,79,97,90,61,67,53,46,98,36,64,50,43,60,39,70,65,91,96,78,93,74,52,65,64,88,57,90,63,93,75,67,51,45,77,66,69,47,59,52,64,97,93,72,63,100,80,66,62,92,68,89,62,57,65,82,47,78,79,68,95,83,90,96,30,68,73,58,72,75,89,68,63,67,86,90,65,90,63,90,48,91,69,64,84,92,67,60,59,62,80,50,85,71,72,72,52,80,63,67,68,59,52,99,67,91,50,78,75,82,83,49,99,99],\"yaxis\":\"y\",\"type\":\"scatter\"},{\"hovertemplate\":\"Private=No<br>Room.Board=%{x}<br>Grad.Rate=%{y}<extra></extra>\",\"legendgroup\":\"No\",\"marker\":{\"color\":\"#EF553B\",\"symbol\":\"circle\"},\"mode\":\"markers\",\"name\":\"No\",\"orientation\":\"v\",\"showlegend\":true,\"x\":[3592,2540,4850,2650,3933,2700,2948,3352,4877,4368,4690,4444,3288,3603,4750,3610,3689,3460,4298,4180,1880,2146,3240,3000,4316,3066,3144,4600,2550,2494,4060,3320,3138,4840,4438,2655,3800,3403,3706,3990,3224,4544,4800,4690,3120,4157,3040,2987,3400,3620,3962,2980,2325,4640,2643,4942,2516,3798,3960,3734,3978,3830,3084,2217,2852,3400,3710,4834,2664,3110,5376,3214,4330,1780,6540,2744,3416,3728,3296,3136,4030,4095,3344,2760,4060,2624,3500,3990,4110,4860,4830,4748,4748,4748,2625,4690,5110,3504,2190,3540,2619,3598,2590,2750,4730,4351,4355,4598,4731,4712,4460,4810,4040,4680,4420,4170,4240,4176,4660,4760,3412,3122,3360,2439,5411,2394,5175,3300,6246,5302,4234,4697,5072,4180,3600,3038,4574,5088,3384,3600,3970,3680,3630,4408,5146,3897,4500,4659,3474,3180,3744,3810,3485,3600,3964,3030,3145,3862,3420,4200,3109,3505,3680,2703,4360,3579,4128,2930,3526,3660,4560,5558,1920,3066,3522,3776,4380,3192,2470,3262,2780,3309,5376,3975,4928,3792,4218,3994,2592,2780,2500,2800,4290,2964,3422,2570,4182,4845,3176,4210,2660,4108,2890,2380,4100,3755,4144,3788,5304,2700,3392,3900],\"xaxis\":\"x\",\"y\":[34,70,48,48,69,46,75,67,59,61,79,49,50,51,48,73,46,51,93,59,58,46,58,42,50,76,50,68,24,66,58,46,43,46,70,34,57,54,40,68,65,98,26,36,54,61,26,51,45,63,62,37,45,51,68,84,51,59,85,71,65,71,53,63,100,74,37,58,60,52,72,34,57,44,62,42,76,41,56,54,53,64,48,48,63,44,35,67,62,47,51,77,57,58,58,56,41,72,67,45,53,43,56,51,63,64,74,80,56,57,49,63,42,53,66,76,53,65,59,46,69,43,10,84,81,56,33,39,78,66,46,54,71,66,63,54,81,34,57,31,59,64,35,55,63,68,56,87,53,51,45,53,58,49,48,51,53,75,37,83,62,53,55,49,47,35,40,77,44,54,66,63,43,48,63,47,36,38,45,53,29,65,50,37,79,95,65,53,65,36,67,46,72,38,45,40,45,31,73,56,52,52,60,55,55,52,61,65,87,58,59,40],\"yaxis\":\"y\",\"type\":\"scatter\"}],                        {\"template\":{\"data\":{\"histogram2dcontour\":[{\"type\":\"histogram2dcontour\",\"colorbar\":{\"outlinewidth\":0,\"ticks\":\"\"},\"colorscale\":[[0.0,\"#0d0887\"],[0.1111111111111111,\"#46039f\"],[0.2222222222222222,\"#7201a8\"],[0.3333333333333333,\"#9c179e\"],[0.4444444444444444,\"#bd3786\"],[0.5555555555555556,\"#d8576b\"],[0.6666666666666666,\"#ed7953\"],[0.7777777777777778,\"#fb9f3a\"],[0.8888888888888888,\"#fdca26\"],[1.0,\"#f0f921\"]]}],\"choropleth\":[{\"type\":\"choropleth\",\"colorbar\":{\"outlinewidth\":0,\"ticks\":\"\"}}],\"histogram2d\":[{\"type\":\"histogram2d\",\"colorbar\":{\"outlinewidth\":0,\"ticks\":\"\"},\"colorscale\":[[0.0,\"#0d0887\"],[0.1111111111111111,\"#46039f\"],[0.2222222222222222,\"#7201a8\"],[0.3333333333333333,\"#9c179e\"],[0.4444444444444444,\"#bd3786\"],[0.5555555555555556,\"#d8576b\"],[0.6666666666666666,\"#ed7953\"],[0.7777777777777778,\"#fb9f3a\"],[0.8888888888888888,\"#fdca26\"],[1.0,\"#f0f921\"]]}],\"heatmap\":[{\"type\":\"heatmap\",\"colorbar\":{\"outlinewidth\":0,\"ticks\":\"\"},\"colorscale\":[[0.0,\"#0d0887\"],[0.1111111111111111,\"#46039f\"],[0.2222222222222222,\"#7201a8\"],[0.3333333333333333,\"#9c179e\"],[0.4444444444444444,\"#bd3786\"],[0.5555555555555556,\"#d8576b\"],[0.6666666666666666,\"#ed7953\"],[0.7777777777777778,\"#fb9f3a\"],[0.8888888888888888,\"#fdca26\"],[1.0,\"#f0f921\"]]}],\"heatmapgl\":[{\"type\":\"heatmapgl\",\"colorbar\":{\"outlinewidth\":0,\"ticks\":\"\"},\"colorscale\":[[0.0,\"#0d0887\"],[0.1111111111111111,\"#46039f\"],[0.2222222222222222,\"#7201a8\"],[0.3333333333333333,\"#9c179e\"],[0.4444444444444444,\"#bd3786\"],[0.5555555555555556,\"#d8576b\"],[0.6666666666666666,\"#ed7953\"],[0.7777777777777778,\"#fb9f3a\"],[0.8888888888888888,\"#fdca26\"],[1.0,\"#f0f921\"]]}],\"contourcarpet\":[{\"type\":\"contourcarpet\",\"colorbar\":{\"outlinewidth\":0,\"ticks\":\"\"}}],\"contour\":[{\"type\":\"contour\",\"colorbar\":{\"outlinewidth\":0,\"ticks\":\"\"},\"colorscale\":[[0.0,\"#0d0887\"],[0.1111111111111111,\"#46039f\"],[0.2222222222222222,\"#7201a8\"],[0.3333333333333333,\"#9c179e\"],[0.4444444444444444,\"#bd3786\"],[0.5555555555555556,\"#d8576b\"],[0.6666666666666666,\"#ed7953\"],[0.7777777777777778,\"#fb9f3a\"],[0.8888888888888888,\"#fdca26\"],[1.0,\"#f0f921\"]]}],\"surface\":[{\"type\":\"surface\",\"colorbar\":{\"outlinewidth\":0,\"ticks\":\"\"},\"colorscale\":[[0.0,\"#0d0887\"],[0.1111111111111111,\"#46039f\"],[0.2222222222222222,\"#7201a8\"],[0.3333333333333333,\"#9c179e\"],[0.4444444444444444,\"#bd3786\"],[0.5555555555555556,\"#d8576b\"],[0.6666666666666666,\"#ed7953\"],[0.7777777777777778,\"#fb9f3a\"],[0.8888888888888888,\"#fdca26\"],[1.0,\"#f0f921\"]]}],\"mesh3d\":[{\"type\":\"mesh3d\",\"colorbar\":{\"outlinewidth\":0,\"ticks\":\"\"}}],\"scatter\":[{\"fillpattern\":{\"fillmode\":\"overlay\",\"size\":10,\"solidity\":0.2},\"type\":\"scatter\"}],\"parcoords\":[{\"type\":\"parcoords\",\"line\":{\"colorbar\":{\"outlinewidth\":0,\"ticks\":\"\"}}}],\"scatterpolargl\":[{\"type\":\"scatterpolargl\",\"marker\":{\"colorbar\":{\"outlinewidth\":0,\"ticks\":\"\"}}}],\"bar\":[{\"error_x\":{\"color\":\"#2a3f5f\"},\"error_y\":{\"color\":\"#2a3f5f\"},\"marker\":{\"line\":{\"color\":\"#E5ECF6\",\"width\":0.5},\"pattern\":{\"fillmode\":\"overlay\",\"size\":10,\"solidity\":0.2}},\"type\":\"bar\"}],\"scattergeo\":[{\"type\":\"scattergeo\",\"marker\":{\"colorbar\":{\"outlinewidth\":0,\"ticks\":\"\"}}}],\"scatterpolar\":[{\"type\":\"scatterpolar\",\"marker\":{\"colorbar\":{\"outlinewidth\":0,\"ticks\":\"\"}}}],\"histogram\":[{\"marker\":{\"pattern\":{\"fillmode\":\"overlay\",\"size\":10,\"solidity\":0.2}},\"type\":\"histogram\"}],\"scattergl\":[{\"type\":\"scattergl\",\"marker\":{\"colorbar\":{\"outlinewidth\":0,\"ticks\":\"\"}}}],\"scatter3d\":[{\"type\":\"scatter3d\",\"line\":{\"colorbar\":{\"outlinewidth\":0,\"ticks\":\"\"}},\"marker\":{\"colorbar\":{\"outlinewidth\":0,\"ticks\":\"\"}}}],\"scattermapbox\":[{\"type\":\"scattermapbox\",\"marker\":{\"colorbar\":{\"outlinewidth\":0,\"ticks\":\"\"}}}],\"scatterternary\":[{\"type\":\"scatterternary\",\"marker\":{\"colorbar\":{\"outlinewidth\":0,\"ticks\":\"\"}}}],\"scattercarpet\":[{\"type\":\"scattercarpet\",\"marker\":{\"colorbar\":{\"outlinewidth\":0,\"ticks\":\"\"}}}],\"carpet\":[{\"aaxis\":{\"endlinecolor\":\"#2a3f5f\",\"gridcolor\":\"white\",\"linecolor\":\"white\",\"minorgridcolor\":\"white\",\"startlinecolor\":\"#2a3f5f\"},\"baxis\":{\"endlinecolor\":\"#2a3f5f\",\"gridcolor\":\"white\",\"linecolor\":\"white\",\"minorgridcolor\":\"white\",\"startlinecolor\":\"#2a3f5f\"},\"type\":\"carpet\"}],\"table\":[{\"cells\":{\"fill\":{\"color\":\"#EBF0F8\"},\"line\":{\"color\":\"white\"}},\"header\":{\"fill\":{\"color\":\"#C8D4E3\"},\"line\":{\"color\":\"white\"}},\"type\":\"table\"}],\"barpolar\":[{\"marker\":{\"line\":{\"color\":\"#E5ECF6\",\"width\":0.5},\"pattern\":{\"fillmode\":\"overlay\",\"size\":10,\"solidity\":0.2}},\"type\":\"barpolar\"}],\"pie\":[{\"automargin\":true,\"type\":\"pie\"}]},\"layout\":{\"autotypenumbers\":\"strict\",\"colorway\":[\"#636efa\",\"#EF553B\",\"#00cc96\",\"#ab63fa\",\"#FFA15A\",\"#19d3f3\",\"#FF6692\",\"#B6E880\",\"#FF97FF\",\"#FECB52\"],\"font\":{\"color\":\"#2a3f5f\"},\"hovermode\":\"closest\",\"hoverlabel\":{\"align\":\"left\"},\"paper_bgcolor\":\"white\",\"plot_bgcolor\":\"#E5ECF6\",\"polar\":{\"bgcolor\":\"#E5ECF6\",\"angularaxis\":{\"gridcolor\":\"white\",\"linecolor\":\"white\",\"ticks\":\"\"},\"radialaxis\":{\"gridcolor\":\"white\",\"linecolor\":\"white\",\"ticks\":\"\"}},\"ternary\":{\"bgcolor\":\"#E5ECF6\",\"aaxis\":{\"gridcolor\":\"white\",\"linecolor\":\"white\",\"ticks\":\"\"},\"baxis\":{\"gridcolor\":\"white\",\"linecolor\":\"white\",\"ticks\":\"\"},\"caxis\":{\"gridcolor\":\"white\",\"linecolor\":\"white\",\"ticks\":\"\"}},\"coloraxis\":{\"colorbar\":{\"outlinewidth\":0,\"ticks\":\"\"}},\"colorscale\":{\"sequential\":[[0.0,\"#0d0887\"],[0.1111111111111111,\"#46039f\"],[0.2222222222222222,\"#7201a8\"],[0.3333333333333333,\"#9c179e\"],[0.4444444444444444,\"#bd3786\"],[0.5555555555555556,\"#d8576b\"],[0.6666666666666666,\"#ed7953\"],[0.7777777777777778,\"#fb9f3a\"],[0.8888888888888888,\"#fdca26\"],[1.0,\"#f0f921\"]],\"sequentialminus\":[[0.0,\"#0d0887\"],[0.1111111111111111,\"#46039f\"],[0.2222222222222222,\"#7201a8\"],[0.3333333333333333,\"#9c179e\"],[0.4444444444444444,\"#bd3786\"],[0.5555555555555556,\"#d8576b\"],[0.6666666666666666,\"#ed7953\"],[0.7777777777777778,\"#fb9f3a\"],[0.8888888888888888,\"#fdca26\"],[1.0,\"#f0f921\"]],\"diverging\":[[0,\"#8e0152\"],[0.1,\"#c51b7d\"],[0.2,\"#de77ae\"],[0.3,\"#f1b6da\"],[0.4,\"#fde0ef\"],[0.5,\"#f7f7f7\"],[0.6,\"#e6f5d0\"],[0.7,\"#b8e186\"],[0.8,\"#7fbc41\"],[0.9,\"#4d9221\"],[1,\"#276419\"]]},\"xaxis\":{\"gridcolor\":\"white\",\"linecolor\":\"white\",\"ticks\":\"\",\"title\":{\"standoff\":15},\"zerolinecolor\":\"white\",\"automargin\":true,\"zerolinewidth\":2},\"yaxis\":{\"gridcolor\":\"white\",\"linecolor\":\"white\",\"ticks\":\"\",\"title\":{\"standoff\":15},\"zerolinecolor\":\"white\",\"automargin\":true,\"zerolinewidth\":2},\"scene\":{\"xaxis\":{\"backgroundcolor\":\"#E5ECF6\",\"gridcolor\":\"white\",\"linecolor\":\"white\",\"showbackground\":true,\"ticks\":\"\",\"zerolinecolor\":\"white\",\"gridwidth\":2},\"yaxis\":{\"backgroundcolor\":\"#E5ECF6\",\"gridcolor\":\"white\",\"linecolor\":\"white\",\"showbackground\":true,\"ticks\":\"\",\"zerolinecolor\":\"white\",\"gridwidth\":2},\"zaxis\":{\"backgroundcolor\":\"#E5ECF6\",\"gridcolor\":\"white\",\"linecolor\":\"white\",\"showbackground\":true,\"ticks\":\"\",\"zerolinecolor\":\"white\",\"gridwidth\":2}},\"shapedefaults\":{\"line\":{\"color\":\"#2a3f5f\"}},\"annotationdefaults\":{\"arrowcolor\":\"#2a3f5f\",\"arrowhead\":0,\"arrowwidth\":1},\"geo\":{\"bgcolor\":\"white\",\"landcolor\":\"#E5ECF6\",\"subunitcolor\":\"white\",\"showland\":true,\"showlakes\":true,\"lakecolor\":\"white\"},\"title\":{\"x\":0.05},\"mapbox\":{\"style\":\"light\"}}},\"xaxis\":{\"anchor\":\"y\",\"domain\":[0.0,1.0],\"title\":{\"text\":\"Room.Board\"}},\"yaxis\":{\"anchor\":\"x\",\"domain\":[0.0,1.0],\"title\":{\"text\":\"Grad.Rate\"}},\"legend\":{\"title\":{\"text\":\"Private\"},\"tracegroupgap\":0},\"margin\":{\"t\":60}},                        {\"responsive\": true}                    ).then(function(){\n",
       "                            \n",
       "var gd = document.getElementById('46988879-caa8-4590-ab4a-b4485535206a');\n",
       "var x = new MutationObserver(function (mutations, observer) {{\n",
       "        var display = window.getComputedStyle(gd).display;\n",
       "        if (!display || display === 'none') {{\n",
       "            console.log([gd, 'removed!']);\n",
       "            Plotly.purge(gd);\n",
       "            observer.disconnect();\n",
       "        }}\n",
       "}});\n",
       "\n",
       "// Listen for the removal of the full notebook cells\n",
       "var notebookContainer = gd.closest('#notebook-container');\n",
       "if (notebookContainer) {{\n",
       "    x.observe(notebookContainer, {childList: true});\n",
       "}}\n",
       "\n",
       "// Listen for the clearing of the current output cell\n",
       "var outputEl = gd.closest('.output');\n",
       "if (outputEl) {{\n",
       "    x.observe(outputEl, {childList: true});\n",
       "}}\n",
       "\n",
       "                        })                };                });            </script>        </div>"
      ]
     },
     "metadata": {},
     "output_type": "display_data"
    }
   ],
   "source": [
    "fig = px.scatter(df, x=\"Room.Board\", y=\"Grad.Rate\", color='Private')\n",
    "fig.show()"
   ]
  },
  {
   "cell_type": "markdown",
   "metadata": {},
   "source": [
    "## Create a scatterplot of F.Undergrad versus Outstate where the points are colored by the Private column."
   ]
  },
  {
   "cell_type": "code",
   "execution_count": 8,
   "metadata": {},
   "outputs": [
    {
     "data": {
      "application/vnd.plotly.v1+json": {
       "config": {
        "plotlyServerURL": "https://plot.ly"
       },
       "data": [
        {
         "hovertemplate": "Private=Yes<br>Outstate=%{x}<br>F.Undergrad=%{y}<extra></extra>",
         "legendgroup": "Yes",
         "marker": {
          "color": "#636efa",
          "symbol": "circle"
         },
         "mode": "markers",
         "name": "Yes",
         "orientation": "v",
         "showlegend": true,
         "type": "scatter",
         "x": [
          7440,
          12280,
          11250,
          12960,
          7560,
          13500,
          13290,
          13868,
          15595,
          10468,
          16548,
          17080,
          9690,
          12572,
          8352,
          8700,
          19760,
          10100,
          9996,
          15476,
          11208,
          8644,
          12000,
          11902,
          13353,
          10990,
          11280,
          9925,
          8620,
          10995,
          9690,
          19264,
          17926,
          11290,
          6450,
          12850,
          8840,
          9000,
          7800,
          16304,
          9550,
          21700,
          13800,
          8050,
          8740,
          8540,
          6200,
          5188,
          11660,
          6500,
          7150,
          9900,
          18420,
          19030,
          14080,
          10870,
          19380,
          9592,
          4371,
          10260,
          10265,
          2340,
          19528,
          18165,
          18550,
          13306,
          13130,
          10518,
          8900,
          12950,
          10230,
          7550,
          6060,
          10750,
          13050,
          8400,
          19292,
          17900,
          12200,
          8150,
          13125,
          15700,
          9270,
          13712,
          9384,
          14340,
          7344,
          11400,
          8950,
          11230,
          10938,
          8300,
          11850,
          16624,
          13500,
          10335,
          8730,
          9300,
          4412,
          17000,
          17500,
          10740,
          15960,
          13925,
          9888,
          18930,
          19510,
          10860,
          9800,
          11790,
          12600,
          11180,
          12247,
          12224,
          10900,
          9990,
          11138,
          8300,
          11844,
          18000,
          16240,
          17142,
          8294,
          10425,
          18624,
          10500,
          6900,
          10800,
          9216,
          18740,
          12050,
          15248,
          10628,
          8000,
          6230,
          8920,
          9130,
          12292,
          19545,
          17295,
          10850,
          16900,
          14300,
          18700,
          6700,
          9570,
          8310,
          9800,
          9000,
          13420,
          18432,
          8730,
          18590,
          15036,
          4950,
          11190,
          9650,
          8770,
          15360,
          14190,
          14990,
          11800,
          9100,
          7800,
          8578,
          17600,
          10485,
          10955,
          15000,
          9400,
          5120,
          13900,
          8025,
          8390,
          14235,
          9650,
          10390,
          13320,
          5500,
          9900,
          13440,
          10970,
          8180,
          9476,
          12500,
          17450,
          8100,
          18300,
          9150,
          19964,
          6120,
          13000,
          12200,
          9420,
          15588,
          8958,
          9100,
          11750,
          8330,
          10310,
          15688,
          5224,
          13404,
          14125,
          11000,
          19700,
          13252,
          13218,
          7161,
          8200,
          6300,
          5504,
          17480,
          18485,
          17230,
          9376,
          8800,
          11090,
          14067,
          19029,
          11600,
          13470,
          13960,
          12275,
          9990,
          8080,
          9950,
          7260,
          7800,
          10500,
          8050,
          14550,
          14360,
          10000,
          8840,
          9210,
          10690,
          14424,
          7620,
          6398,
          11700,
          18800,
          9414,
          14850,
          8400,
          8000,
          19240,
          9600,
          10910,
          8664,
          15747,
          8842,
          12600,
          18730,
          6987,
          16880,
          9400,
          5170,
          17163,
          11040,
          13850,
          18700,
          10100,
          11700,
          8840,
          15800,
          10560,
          5950,
          9200,
          13380,
          4400,
          11200,
          5150,
          12990,
          13592,
          11100,
          11500,
          13240,
          13900,
          12450,
          15909,
          9620,
          9858,
          10440,
          12370,
          14700,
          9400,
          13850,
          10700,
          11610,
          5094,
          11200,
          11510,
          10200,
          11390,
          11200,
          9250,
          11040,
          20100,
          7680,
          6930,
          7950,
          11985,
          9813,
          6720,
          12500,
          10300,
          6840,
          8200,
          11910,
          11320,
          11505,
          5580,
          8550,
          13000,
          12480,
          8438,
          14990,
          7050,
          10520,
          4515,
          19300,
          6844,
          8950,
          10500,
          9900,
          12850,
          7470,
          12474,
          12250,
          7400,
          16975,
          13240,
          9090,
          10850,
          17748,
          10194,
          10320,
          8242,
          11718,
          12580,
          13380,
          9840,
          9900,
          16404,
          14134,
          9990,
          19670,
          16560,
          12900,
          15990,
          16732,
          5390,
          6400,
          12888,
          6530,
          8530,
          11000,
          13312,
          11925,
          14210,
          18200,
          8640,
          11690,
          10500,
          5640,
          6000,
          17688,
          10178,
          9700,
          16200,
          11859,
          19900,
          14400,
          11020,
          10100,
          12030,
          13840,
          13970,
          19960,
          12700,
          17475,
          15200,
          13250,
          15200,
          9870,
          13425,
          9490,
          8734,
          12520,
          16425,
          10950,
          11070,
          10450,
          12950,
          8670,
          10880,
          12247,
          11200,
          9985,
          12750,
          12200,
          11690,
          12730,
          10800,
          10300,
          13030,
          14350,
          9408,
          10850,
          10860,
          10575,
          10475,
          8236,
          13584,
          19300,
          8325,
          8955,
          17238,
          12669,
          12825,
          12000,
          11240,
          7210,
          10800,
          9240,
          16160,
          11250,
          8990,
          18710,
          18820,
          9520,
          12772,
          7070,
          7536,
          7200,
          11850,
          8400,
          7000,
          8600,
          10456,
          16150,
          10570,
          18720,
          11550,
          13332,
          8678,
          12140,
          5000,
          8650,
          13900,
          12315,
          16900,
          12170,
          16130,
          14500,
          15150,
          7850,
          5666,
          10965,
          7070,
          8490,
          7850,
          6400,
          11172,
          7600,
          10900,
          9456,
          18810,
          11412,
          11010,
          12240,
          19040,
          7700,
          6735,
          7800,
          18732,
          9500,
          18930,
          10760,
          11380,
          10220,
          15192,
          11130,
          10430,
          11800,
          14220,
          11120,
          13540,
          16500,
          6150,
          11450,
          16850,
          17020,
          12040,
          16230,
          14500,
          17840,
          13600,
          13226,
          11584,
          17230,
          11712,
          8550,
          12520,
          16320,
          15350,
          11750,
          8840,
          14900,
          9600,
          11800,
          17865,
          18920,
          15925,
          7384,
          10900,
          9140,
          4450,
          12925,
          13500,
          13850,
          8670,
          10000,
          11600,
          16260,
          13750,
          15276,
          18350,
          8840,
          5590,
          9160,
          18345,
          14900,
          9850,
          9890,
          19130,
          14200,
          14510,
          8994,
          10720,
          12065,
          8820,
          11480,
          18460,
          10500,
          16670,
          16249,
          12660,
          12350,
          11150,
          14800,
          10060,
          10535,
          19629,
          11428,
          7820,
          9100,
          15948,
          12680,
          15884,
          11520,
          6900,
          19840,
          4990
         ],
         "xaxis": "x",
         "y": [
          2885,
          2683,
          1036,
          510,
          249,
          678,
          416,
          1594,
          973,
          799,
          1830,
          1707,
          1130,
          1306,
          1317,
          1018,
          1593,
          1819,
          1586,
          712,
          1251,
          530,
          1708,
          2074,
          1950,
          1337,
          1120,
          777,
          958,
          2718,
          453,
          1004,
          2121,
          1811,
          9919,
          878,
          1198,
          709,
          1964,
          1085,
          702,
          457,
          3095,
          1620,
          706,
          537,
          347,
          2128,
          1376,
          421,
          653,
          760,
          14971,
          1490,
          453,
          4531,
          2819,
          917,
          1320,
          738,
          881,
          27378,
          5643,
          1088,
          3316,
          1928,
          2607,
          1035,
          693,
          1427,
          3401,
          3191,
          935,
          2978,
          1662,
          282,
          1870,
          4265,
          1357,
          1776,
          1405,
          3051,
          915,
          2159,
          1010,
          791,
          2196,
          396,
          775,
          525,
          1355,
          1047,
          943,
          1662,
          471,
          518,
          139,
          1068,
          959,
          887,
          1928,
          604,
          2332,
          1127,
          690,
          1720,
          2649,
          1121,
          1165,
          707,
          500,
          667,
          1715,
          1692,
          493,
          1698,
          873,
          201,
          1350,
          2675,
          1704,
          1892,
          690,
          968,
          3376,
          1049,
          534,
          641,
          1168,
          1630,
          643,
          1140,
          3450,
          992,
          1306,
          1074,
          550,
          460,
          3918,
          1601,
          645,
          1835,
          1983,
          1889,
          1539,
          1022,
          756,
          1048,
          1059,
          3322,
          1192,
          1065,
          6188,
          1028,
          1050,
          1057,
          903,
          1238,
          1363,
          1476,
          1109,
          544,
          2933,
          4772,
          809,
          5544,
          532,
          484,
          2984,
          1051,
          1345,
          1863,
          1506,
          981,
          4740,
          1301,
          840,
          1818,
          1174,
          704,
          2371,
          2693,
          1603,
          1306,
          1271,
          5471,
          1063,
          5881,
          1095,
          1944,
          823,
          2523,
          1151,
          910,
          850,
          618,
          996,
          545,
          649,
          771,
          1333,
          2213,
          1410,
          2281,
          716,
          1646,
          1362,
          945,
          4623,
          1024,
          1365,
          3128,
          1464,
          6862,
          654,
          935,
          954,
          1133,
          1000,
          1792,
          6534,
          795,
          710,
          2505,
          1210,
          538,
          488,
          392,
          951,
          1222,
          909,
          1911,
          1818,
          494,
          1685,
          2448,
          3906,
          5612,
          9950,
          961,
          3168,
          3566,
          552,
          1075,
          474,
          662,
          1445,
          738,
          500,
          509,
          967,
          650,
          2738,
          2018,
          600,
          968,
          887,
          840,
          1129,
          1820,
          965,
          4298,
          1188,
          1134,
          1532,
          1763,
          2192,
          925,
          2155,
          1548,
          621,
          1663,
          912,
          3010,
          3558,
          2740,
          5244,
          2269,
          1363,
          1524,
          1723,
          628,
          1605,
          909,
          2578,
          830,
          1160,
          1089,
          3557,
          7016,
          7703,
          846,
          731,
          988,
          1247,
          624,
          1343,
          1452,
          4481,
          836,
          880,
          336,
          2943,
          1805,
          1721,
          1927,
          2258,
          1100,
          685,
          1788,
          1073,
          1773,
          1695,
          1057,
          671,
          1893,
          316,
          1241,
          2852,
          950,
          926,
          1891,
          600,
          931,
          806,
          364,
          1243,
          1170,
          1039,
          1365,
          1114,
          1656,
          1115,
          2508,
          1274,
          12408,
          601,
          1919,
          646,
          1310,
          879,
          11160,
          1115,
          1040,
          7450,
          1862,
          500,
          2587,
          1686,
          769,
          2502,
          1780,
          1707,
          1419,
          1648,
          1310,
          1202,
          5809,
          2580,
          1316,
          1041,
          2488,
          654,
          1664,
          597,
          641,
          797,
          750,
          1889,
          1173,
          1379,
          1133,
          4540,
          3717,
          630,
          1070,
          2677,
          1071,
          653,
          1199,
          581,
          4291,
          1345,
          2748,
          735,
          590,
          1460,
          1127,
          743,
          2111,
          1668,
          624,
          1707,
          1345,
          1873,
          513,
          1223,
          1691,
          815,
          716,
          2473,
          543,
          4576,
          1433,
          1263,
          341,
          1715,
          2888,
          1921,
          1035,
          1670,
          700,
          534,
          2959,
          3891,
          1000,
          1897,
          521,
          569,
          1922,
          2993,
          4384,
          752,
          1115,
          2669,
          686,
          1144,
          1116,
          614,
          2322,
          2479,
          784,
          4892,
          1770,
          620,
          504,
          1177,
          589,
          1971,
          1501,
          1688,
          393,
          1687,
          1801,
          494,
          2615,
          2149,
          1946,
          617,
          1117,
          614,
          1964,
          1263,
          2022,
          1442,
          527,
          10142,
          396,
          908,
          1757,
          402,
          5064,
          895,
          1204,
          791,
          662,
          867,
          978,
          1737,
          309,
          484,
          2110,
          4941,
          983,
          2825,
          634,
          1915,
          771,
          3340,
          1058,
          5889,
          14130,
          2666,
          2149,
          662,
          2551,
          3768,
          1417,
          1431,
          7760,
          1417,
          820,
          7671,
          9205,
          2041,
          2738,
          2854,
          5071,
          3698,
          4309,
          3674,
          13259,
          4106,
          995,
          1145,
          2664,
          1129,
          2936,
          1481,
          1131,
          699,
          2501,
          5500,
          2164,
          6362,
          1298,
          1130,
          1014,
          703,
          801,
          1324,
          3499,
          847,
          466,
          1295,
          1098,
          1584,
          822,
          4879,
          1280,
          327,
          1739,
          2195,
          416,
          2961,
          872,
          2714,
          1509,
          1071,
          1803,
          665,
          1411,
          979,
          2200,
          1335,
          971,
          1220,
          1235,
          1270,
          2186,
          1803,
          1595,
          1279,
          851,
          1988,
          199,
          1207,
          282,
          1980,
          1059,
          2802,
          2849,
          2793,
          5217,
          2988
         ],
         "yaxis": "y"
        },
        {
         "hovertemplate": "Private=No<br>Outstate=%{x}<br>F.Undergrad=%{y}<extra></extra>",
         "legendgroup": "No",
         "marker": {
          "color": "#EF553B",
          "symbol": "circle"
         },
         "mode": "markers",
         "name": "No",
         "orientation": "v",
         "showlegend": true,
         "type": "scatter",
         "x": [
          5130,
          6806,
          7434,
          3460,
          6300,
          4425,
          7844,
          7452,
          7380,
          7706,
          7656,
          5962,
          4620,
          7242,
          7860,
          8116,
          7168,
          6120,
          11720,
          8412,
          4528,
          4486,
          7248,
          5800,
          5962,
          5710,
          5401,
          6297,
          6806,
          6597,
          6680,
          6198,
          5840,
          10800,
          6489,
          6744,
          6108,
          7799,
          6892,
          9766,
          7550,
          7994,
          3946,
          7656,
          6995,
          7870,
          4752,
          4938,
          4818,
          7352,
          7920,
          5925,
          3957,
          7320,
          4300,
          6490,
          4486,
          5016,
          8856,
          10658,
          8127,
          7844,
          9866,
          4386,
          3840,
          6073,
          5552,
          3648,
          4426,
          4738,
          8832,
          5376,
          5542,
          6806,
          8400,
          5834,
          4856,
          6746,
          7799,
          3735,
          9114,
          7629,
          5336,
          6360,
          10645,
          2580,
          4290,
          9556,
          6684,
          4449,
          4356,
          7410,
          7411,
          7410,
          4259,
          5130,
          8384,
          7844,
          3811,
          4680,
          3738,
          5472,
          4740,
          4285,
          6800,
          3040,
          6550,
          6550,
          6550,
          6550,
          6550,
          6550,
          6550,
          6550,
          6550,
          6550,
          6550,
          6550,
          6840,
          6550,
          5130,
          4860,
          7860,
          7070,
          5391,
          6874,
          4440,
          5028,
          11648,
          12024,
          6618,
          8907,
          11656,
          7090,
          5697,
          4460,
          7560,
          7230,
          6994,
          6540,
          6810,
          6600,
          6600,
          8594,
          8723,
          8566,
          6919,
          15732,
          8828,
          9843,
          8949,
          4916,
          9057,
          9057,
          7246,
          4440,
          5595,
          11180,
          5972,
          8400,
          7248,
          8677,
          7558,
          5634,
          6634,
          4104,
          7731,
          6197,
          5173,
          10602,
          10786,
          10330,
          3687,
          5800,
          8074,
          6760,
          7100,
          4973,
          4652,
          5764,
          4422,
          5130,
          4104,
          6857,
          15516,
          12212,
          8199,
          6172,
          6704,
          7032,
          6950,
          6900,
          9096,
          8786,
          5988,
          4286,
          10217,
          5587,
          10260,
          8200,
          2700,
          7844,
          4470,
          6390,
          6940,
          5918,
          8124,
          5542,
          14320,
          4200,
          6400,
          6797
         ],
         "xaxis": "x",
         "y": [
          4190,
          9940,
          22593,
          3602,
          16262,
          3796,
          5847,
          13699,
          12911,
          13494,
          1547,
          6394,
          8094,
          6507,
          2910,
          11755,
          1125,
          6851,
          5186,
          15646,
          2806,
          1376,
          13171,
          6706,
          2766,
          9161,
          3957,
          3065,
          2632,
          10208,
          18906,
          3793,
          3224,
          9528,
          8528,
          7732,
          8234,
          15701,
          8596,
          24763,
          18676,
          9652,
          3817,
          1224,
          14914,
          3480,
          5438,
          2074,
          1196,
          3390,
          2874,
          16269,
          6720,
          959,
          9649,
          2997,
          658,
          3471,
          13606,
          26640,
          5524,
          5146,
          10094,
          1673,
          3689,
          1470,
          8730,
          6411,
          5983,
          5968,
          3311,
          1017,
          1380,
          6162,
          16505,
          7368,
          5640,
          11249,
          14826,
          4787,
          6441,
          14861,
          12830,
          2174,
          28938,
          959,
          4564,
          26213,
          8077,
          2745,
          5303,
          21401,
          2585,
          4005,
          11493,
          4296,
          16407,
          5268,
          7000,
          6553,
          2962,
          6063,
          13131,
          2091,
          1315,
          4365,
          10168,
          8544,
          13963,
          9744,
          5758,
          6943,
          7626,
          5011,
          4123,
          5060,
          4658,
          5004,
          3598,
          2478,
          31643,
          1206,
          5584,
          2024,
          5167,
          7764,
          6960,
          9978,
          19532,
          12677,
          12330,
          11036,
          12478,
          24470,
          19553,
          11028,
          25422,
          13518,
          17880,
          9844,
          1906,
          633,
          974,
          6476,
          19340,
          16282,
          4664,
          22045,
          5887,
          1846,
          16502,
          7524,
          14782,
          3926,
          4793,
          2385,
          16454,
          10358,
          2033,
          14609,
          10099,
          7532,
          6635,
          8334,
          3876,
          14047,
          8463,
          10135,
          13436,
          11669,
          13138,
          8894,
          1140,
          1855,
          12594,
          14770,
          3716,
          4283,
          9260,
          15749,
          10975,
          30017,
          9375,
          13894,
          7353,
          11278,
          20356,
          3754,
          6038,
          1434,
          7804,
          3819,
          23945,
          11561,
          7535,
          863,
          10262,
          3006,
          18511,
          14445,
          2754,
          7484,
          2138,
          5000,
          15739,
          2315,
          8909,
          3234,
          1276,
          5800,
          3395,
          3089
         ],
         "yaxis": "y"
        }
       ],
       "layout": {
        "legend": {
         "title": {
          "text": "Private"
         },
         "tracegroupgap": 0
        },
        "margin": {
         "t": 60
        },
        "template": {
         "data": {
          "bar": [
           {
            "error_x": {
             "color": "#2a3f5f"
            },
            "error_y": {
             "color": "#2a3f5f"
            },
            "marker": {
             "line": {
              "color": "#E5ECF6",
              "width": 0.5
             },
             "pattern": {
              "fillmode": "overlay",
              "size": 10,
              "solidity": 0.2
             }
            },
            "type": "bar"
           }
          ],
          "barpolar": [
           {
            "marker": {
             "line": {
              "color": "#E5ECF6",
              "width": 0.5
             },
             "pattern": {
              "fillmode": "overlay",
              "size": 10,
              "solidity": 0.2
             }
            },
            "type": "barpolar"
           }
          ],
          "carpet": [
           {
            "aaxis": {
             "endlinecolor": "#2a3f5f",
             "gridcolor": "white",
             "linecolor": "white",
             "minorgridcolor": "white",
             "startlinecolor": "#2a3f5f"
            },
            "baxis": {
             "endlinecolor": "#2a3f5f",
             "gridcolor": "white",
             "linecolor": "white",
             "minorgridcolor": "white",
             "startlinecolor": "#2a3f5f"
            },
            "type": "carpet"
           }
          ],
          "choropleth": [
           {
            "colorbar": {
             "outlinewidth": 0,
             "ticks": ""
            },
            "type": "choropleth"
           }
          ],
          "contour": [
           {
            "colorbar": {
             "outlinewidth": 0,
             "ticks": ""
            },
            "colorscale": [
             [
              0,
              "#0d0887"
             ],
             [
              0.1111111111111111,
              "#46039f"
             ],
             [
              0.2222222222222222,
              "#7201a8"
             ],
             [
              0.3333333333333333,
              "#9c179e"
             ],
             [
              0.4444444444444444,
              "#bd3786"
             ],
             [
              0.5555555555555556,
              "#d8576b"
             ],
             [
              0.6666666666666666,
              "#ed7953"
             ],
             [
              0.7777777777777778,
              "#fb9f3a"
             ],
             [
              0.8888888888888888,
              "#fdca26"
             ],
             [
              1,
              "#f0f921"
             ]
            ],
            "type": "contour"
           }
          ],
          "contourcarpet": [
           {
            "colorbar": {
             "outlinewidth": 0,
             "ticks": ""
            },
            "type": "contourcarpet"
           }
          ],
          "heatmap": [
           {
            "colorbar": {
             "outlinewidth": 0,
             "ticks": ""
            },
            "colorscale": [
             [
              0,
              "#0d0887"
             ],
             [
              0.1111111111111111,
              "#46039f"
             ],
             [
              0.2222222222222222,
              "#7201a8"
             ],
             [
              0.3333333333333333,
              "#9c179e"
             ],
             [
              0.4444444444444444,
              "#bd3786"
             ],
             [
              0.5555555555555556,
              "#d8576b"
             ],
             [
              0.6666666666666666,
              "#ed7953"
             ],
             [
              0.7777777777777778,
              "#fb9f3a"
             ],
             [
              0.8888888888888888,
              "#fdca26"
             ],
             [
              1,
              "#f0f921"
             ]
            ],
            "type": "heatmap"
           }
          ],
          "heatmapgl": [
           {
            "colorbar": {
             "outlinewidth": 0,
             "ticks": ""
            },
            "colorscale": [
             [
              0,
              "#0d0887"
             ],
             [
              0.1111111111111111,
              "#46039f"
             ],
             [
              0.2222222222222222,
              "#7201a8"
             ],
             [
              0.3333333333333333,
              "#9c179e"
             ],
             [
              0.4444444444444444,
              "#bd3786"
             ],
             [
              0.5555555555555556,
              "#d8576b"
             ],
             [
              0.6666666666666666,
              "#ed7953"
             ],
             [
              0.7777777777777778,
              "#fb9f3a"
             ],
             [
              0.8888888888888888,
              "#fdca26"
             ],
             [
              1,
              "#f0f921"
             ]
            ],
            "type": "heatmapgl"
           }
          ],
          "histogram": [
           {
            "marker": {
             "pattern": {
              "fillmode": "overlay",
              "size": 10,
              "solidity": 0.2
             }
            },
            "type": "histogram"
           }
          ],
          "histogram2d": [
           {
            "colorbar": {
             "outlinewidth": 0,
             "ticks": ""
            },
            "colorscale": [
             [
              0,
              "#0d0887"
             ],
             [
              0.1111111111111111,
              "#46039f"
             ],
             [
              0.2222222222222222,
              "#7201a8"
             ],
             [
              0.3333333333333333,
              "#9c179e"
             ],
             [
              0.4444444444444444,
              "#bd3786"
             ],
             [
              0.5555555555555556,
              "#d8576b"
             ],
             [
              0.6666666666666666,
              "#ed7953"
             ],
             [
              0.7777777777777778,
              "#fb9f3a"
             ],
             [
              0.8888888888888888,
              "#fdca26"
             ],
             [
              1,
              "#f0f921"
             ]
            ],
            "type": "histogram2d"
           }
          ],
          "histogram2dcontour": [
           {
            "colorbar": {
             "outlinewidth": 0,
             "ticks": ""
            },
            "colorscale": [
             [
              0,
              "#0d0887"
             ],
             [
              0.1111111111111111,
              "#46039f"
             ],
             [
              0.2222222222222222,
              "#7201a8"
             ],
             [
              0.3333333333333333,
              "#9c179e"
             ],
             [
              0.4444444444444444,
              "#bd3786"
             ],
             [
              0.5555555555555556,
              "#d8576b"
             ],
             [
              0.6666666666666666,
              "#ed7953"
             ],
             [
              0.7777777777777778,
              "#fb9f3a"
             ],
             [
              0.8888888888888888,
              "#fdca26"
             ],
             [
              1,
              "#f0f921"
             ]
            ],
            "type": "histogram2dcontour"
           }
          ],
          "mesh3d": [
           {
            "colorbar": {
             "outlinewidth": 0,
             "ticks": ""
            },
            "type": "mesh3d"
           }
          ],
          "parcoords": [
           {
            "line": {
             "colorbar": {
              "outlinewidth": 0,
              "ticks": ""
             }
            },
            "type": "parcoords"
           }
          ],
          "pie": [
           {
            "automargin": true,
            "type": "pie"
           }
          ],
          "scatter": [
           {
            "fillpattern": {
             "fillmode": "overlay",
             "size": 10,
             "solidity": 0.2
            },
            "type": "scatter"
           }
          ],
          "scatter3d": [
           {
            "line": {
             "colorbar": {
              "outlinewidth": 0,
              "ticks": ""
             }
            },
            "marker": {
             "colorbar": {
              "outlinewidth": 0,
              "ticks": ""
             }
            },
            "type": "scatter3d"
           }
          ],
          "scattercarpet": [
           {
            "marker": {
             "colorbar": {
              "outlinewidth": 0,
              "ticks": ""
             }
            },
            "type": "scattercarpet"
           }
          ],
          "scattergeo": [
           {
            "marker": {
             "colorbar": {
              "outlinewidth": 0,
              "ticks": ""
             }
            },
            "type": "scattergeo"
           }
          ],
          "scattergl": [
           {
            "marker": {
             "colorbar": {
              "outlinewidth": 0,
              "ticks": ""
             }
            },
            "type": "scattergl"
           }
          ],
          "scattermapbox": [
           {
            "marker": {
             "colorbar": {
              "outlinewidth": 0,
              "ticks": ""
             }
            },
            "type": "scattermapbox"
           }
          ],
          "scatterpolar": [
           {
            "marker": {
             "colorbar": {
              "outlinewidth": 0,
              "ticks": ""
             }
            },
            "type": "scatterpolar"
           }
          ],
          "scatterpolargl": [
           {
            "marker": {
             "colorbar": {
              "outlinewidth": 0,
              "ticks": ""
             }
            },
            "type": "scatterpolargl"
           }
          ],
          "scatterternary": [
           {
            "marker": {
             "colorbar": {
              "outlinewidth": 0,
              "ticks": ""
             }
            },
            "type": "scatterternary"
           }
          ],
          "surface": [
           {
            "colorbar": {
             "outlinewidth": 0,
             "ticks": ""
            },
            "colorscale": [
             [
              0,
              "#0d0887"
             ],
             [
              0.1111111111111111,
              "#46039f"
             ],
             [
              0.2222222222222222,
              "#7201a8"
             ],
             [
              0.3333333333333333,
              "#9c179e"
             ],
             [
              0.4444444444444444,
              "#bd3786"
             ],
             [
              0.5555555555555556,
              "#d8576b"
             ],
             [
              0.6666666666666666,
              "#ed7953"
             ],
             [
              0.7777777777777778,
              "#fb9f3a"
             ],
             [
              0.8888888888888888,
              "#fdca26"
             ],
             [
              1,
              "#f0f921"
             ]
            ],
            "type": "surface"
           }
          ],
          "table": [
           {
            "cells": {
             "fill": {
              "color": "#EBF0F8"
             },
             "line": {
              "color": "white"
             }
            },
            "header": {
             "fill": {
              "color": "#C8D4E3"
             },
             "line": {
              "color": "white"
             }
            },
            "type": "table"
           }
          ]
         },
         "layout": {
          "annotationdefaults": {
           "arrowcolor": "#2a3f5f",
           "arrowhead": 0,
           "arrowwidth": 1
          },
          "autotypenumbers": "strict",
          "coloraxis": {
           "colorbar": {
            "outlinewidth": 0,
            "ticks": ""
           }
          },
          "colorscale": {
           "diverging": [
            [
             0,
             "#8e0152"
            ],
            [
             0.1,
             "#c51b7d"
            ],
            [
             0.2,
             "#de77ae"
            ],
            [
             0.3,
             "#f1b6da"
            ],
            [
             0.4,
             "#fde0ef"
            ],
            [
             0.5,
             "#f7f7f7"
            ],
            [
             0.6,
             "#e6f5d0"
            ],
            [
             0.7,
             "#b8e186"
            ],
            [
             0.8,
             "#7fbc41"
            ],
            [
             0.9,
             "#4d9221"
            ],
            [
             1,
             "#276419"
            ]
           ],
           "sequential": [
            [
             0,
             "#0d0887"
            ],
            [
             0.1111111111111111,
             "#46039f"
            ],
            [
             0.2222222222222222,
             "#7201a8"
            ],
            [
             0.3333333333333333,
             "#9c179e"
            ],
            [
             0.4444444444444444,
             "#bd3786"
            ],
            [
             0.5555555555555556,
             "#d8576b"
            ],
            [
             0.6666666666666666,
             "#ed7953"
            ],
            [
             0.7777777777777778,
             "#fb9f3a"
            ],
            [
             0.8888888888888888,
             "#fdca26"
            ],
            [
             1,
             "#f0f921"
            ]
           ],
           "sequentialminus": [
            [
             0,
             "#0d0887"
            ],
            [
             0.1111111111111111,
             "#46039f"
            ],
            [
             0.2222222222222222,
             "#7201a8"
            ],
            [
             0.3333333333333333,
             "#9c179e"
            ],
            [
             0.4444444444444444,
             "#bd3786"
            ],
            [
             0.5555555555555556,
             "#d8576b"
            ],
            [
             0.6666666666666666,
             "#ed7953"
            ],
            [
             0.7777777777777778,
             "#fb9f3a"
            ],
            [
             0.8888888888888888,
             "#fdca26"
            ],
            [
             1,
             "#f0f921"
            ]
           ]
          },
          "colorway": [
           "#636efa",
           "#EF553B",
           "#00cc96",
           "#ab63fa",
           "#FFA15A",
           "#19d3f3",
           "#FF6692",
           "#B6E880",
           "#FF97FF",
           "#FECB52"
          ],
          "font": {
           "color": "#2a3f5f"
          },
          "geo": {
           "bgcolor": "white",
           "lakecolor": "white",
           "landcolor": "#E5ECF6",
           "showlakes": true,
           "showland": true,
           "subunitcolor": "white"
          },
          "hoverlabel": {
           "align": "left"
          },
          "hovermode": "closest",
          "mapbox": {
           "style": "light"
          },
          "paper_bgcolor": "white",
          "plot_bgcolor": "#E5ECF6",
          "polar": {
           "angularaxis": {
            "gridcolor": "white",
            "linecolor": "white",
            "ticks": ""
           },
           "bgcolor": "#E5ECF6",
           "radialaxis": {
            "gridcolor": "white",
            "linecolor": "white",
            "ticks": ""
           }
          },
          "scene": {
           "xaxis": {
            "backgroundcolor": "#E5ECF6",
            "gridcolor": "white",
            "gridwidth": 2,
            "linecolor": "white",
            "showbackground": true,
            "ticks": "",
            "zerolinecolor": "white"
           },
           "yaxis": {
            "backgroundcolor": "#E5ECF6",
            "gridcolor": "white",
            "gridwidth": 2,
            "linecolor": "white",
            "showbackground": true,
            "ticks": "",
            "zerolinecolor": "white"
           },
           "zaxis": {
            "backgroundcolor": "#E5ECF6",
            "gridcolor": "white",
            "gridwidth": 2,
            "linecolor": "white",
            "showbackground": true,
            "ticks": "",
            "zerolinecolor": "white"
           }
          },
          "shapedefaults": {
           "line": {
            "color": "#2a3f5f"
           }
          },
          "ternary": {
           "aaxis": {
            "gridcolor": "white",
            "linecolor": "white",
            "ticks": ""
           },
           "baxis": {
            "gridcolor": "white",
            "linecolor": "white",
            "ticks": ""
           },
           "bgcolor": "#E5ECF6",
           "caxis": {
            "gridcolor": "white",
            "linecolor": "white",
            "ticks": ""
           }
          },
          "title": {
           "x": 0.05
          },
          "xaxis": {
           "automargin": true,
           "gridcolor": "white",
           "linecolor": "white",
           "ticks": "",
           "title": {
            "standoff": 15
           },
           "zerolinecolor": "white",
           "zerolinewidth": 2
          },
          "yaxis": {
           "automargin": true,
           "gridcolor": "white",
           "linecolor": "white",
           "ticks": "",
           "title": {
            "standoff": 15
           },
           "zerolinecolor": "white",
           "zerolinewidth": 2
          }
         }
        },
        "xaxis": {
         "anchor": "y",
         "domain": [
          0,
          1
         ],
         "title": {
          "text": "Outstate"
         }
        },
        "yaxis": {
         "anchor": "x",
         "domain": [
          0,
          1
         ],
         "title": {
          "text": "F.Undergrad"
         }
        }
       }
      },
      "text/html": [
       "<div>                            <div id=\"e6d74334-3342-4206-bbed-c1385c9e57dc\" class=\"plotly-graph-div\" style=\"height:525px; width:100%;\"></div>            <script type=\"text/javascript\">                require([\"plotly\"], function(Plotly) {                    window.PLOTLYENV=window.PLOTLYENV || {};                                    if (document.getElementById(\"e6d74334-3342-4206-bbed-c1385c9e57dc\")) {                    Plotly.newPlot(                        \"e6d74334-3342-4206-bbed-c1385c9e57dc\",                        [{\"hovertemplate\":\"Private=Yes<br>Outstate=%{x}<br>F.Undergrad=%{y}<extra></extra>\",\"legendgroup\":\"Yes\",\"marker\":{\"color\":\"#636efa\",\"symbol\":\"circle\"},\"mode\":\"markers\",\"name\":\"Yes\",\"orientation\":\"v\",\"showlegend\":true,\"x\":[7440,12280,11250,12960,7560,13500,13290,13868,15595,10468,16548,17080,9690,12572,8352,8700,19760,10100,9996,15476,11208,8644,12000,11902,13353,10990,11280,9925,8620,10995,9690,19264,17926,11290,6450,12850,8840,9000,7800,16304,9550,21700,13800,8050,8740,8540,6200,5188,11660,6500,7150,9900,18420,19030,14080,10870,19380,9592,4371,10260,10265,2340,19528,18165,18550,13306,13130,10518,8900,12950,10230,7550,6060,10750,13050,8400,19292,17900,12200,8150,13125,15700,9270,13712,9384,14340,7344,11400,8950,11230,10938,8300,11850,16624,13500,10335,8730,9300,4412,17000,17500,10740,15960,13925,9888,18930,19510,10860,9800,11790,12600,11180,12247,12224,10900,9990,11138,8300,11844,18000,16240,17142,8294,10425,18624,10500,6900,10800,9216,18740,12050,15248,10628,8000,6230,8920,9130,12292,19545,17295,10850,16900,14300,18700,6700,9570,8310,9800,9000,13420,18432,8730,18590,15036,4950,11190,9650,8770,15360,14190,14990,11800,9100,7800,8578,17600,10485,10955,15000,9400,5120,13900,8025,8390,14235,9650,10390,13320,5500,9900,13440,10970,8180,9476,12500,17450,8100,18300,9150,19964,6120,13000,12200,9420,15588,8958,9100,11750,8330,10310,15688,5224,13404,14125,11000,19700,13252,13218,7161,8200,6300,5504,17480,18485,17230,9376,8800,11090,14067,19029,11600,13470,13960,12275,9990,8080,9950,7260,7800,10500,8050,14550,14360,10000,8840,9210,10690,14424,7620,6398,11700,18800,9414,14850,8400,8000,19240,9600,10910,8664,15747,8842,12600,18730,6987,16880,9400,5170,17163,11040,13850,18700,10100,11700,8840,15800,10560,5950,9200,13380,4400,11200,5150,12990,13592,11100,11500,13240,13900,12450,15909,9620,9858,10440,12370,14700,9400,13850,10700,11610,5094,11200,11510,10200,11390,11200,9250,11040,20100,7680,6930,7950,11985,9813,6720,12500,10300,6840,8200,11910,11320,11505,5580,8550,13000,12480,8438,14990,7050,10520,4515,19300,6844,8950,10500,9900,12850,7470,12474,12250,7400,16975,13240,9090,10850,17748,10194,10320,8242,11718,12580,13380,9840,9900,16404,14134,9990,19670,16560,12900,15990,16732,5390,6400,12888,6530,8530,11000,13312,11925,14210,18200,8640,11690,10500,5640,6000,17688,10178,9700,16200,11859,19900,14400,11020,10100,12030,13840,13970,19960,12700,17475,15200,13250,15200,9870,13425,9490,8734,12520,16425,10950,11070,10450,12950,8670,10880,12247,11200,9985,12750,12200,11690,12730,10800,10300,13030,14350,9408,10850,10860,10575,10475,8236,13584,19300,8325,8955,17238,12669,12825,12000,11240,7210,10800,9240,16160,11250,8990,18710,18820,9520,12772,7070,7536,7200,11850,8400,7000,8600,10456,16150,10570,18720,11550,13332,8678,12140,5000,8650,13900,12315,16900,12170,16130,14500,15150,7850,5666,10965,7070,8490,7850,6400,11172,7600,10900,9456,18810,11412,11010,12240,19040,7700,6735,7800,18732,9500,18930,10760,11380,10220,15192,11130,10430,11800,14220,11120,13540,16500,6150,11450,16850,17020,12040,16230,14500,17840,13600,13226,11584,17230,11712,8550,12520,16320,15350,11750,8840,14900,9600,11800,17865,18920,15925,7384,10900,9140,4450,12925,13500,13850,8670,10000,11600,16260,13750,15276,18350,8840,5590,9160,18345,14900,9850,9890,19130,14200,14510,8994,10720,12065,8820,11480,18460,10500,16670,16249,12660,12350,11150,14800,10060,10535,19629,11428,7820,9100,15948,12680,15884,11520,6900,19840,4990],\"xaxis\":\"x\",\"y\":[2885,2683,1036,510,249,678,416,1594,973,799,1830,1707,1130,1306,1317,1018,1593,1819,1586,712,1251,530,1708,2074,1950,1337,1120,777,958,2718,453,1004,2121,1811,9919,878,1198,709,1964,1085,702,457,3095,1620,706,537,347,2128,1376,421,653,760,14971,1490,453,4531,2819,917,1320,738,881,27378,5643,1088,3316,1928,2607,1035,693,1427,3401,3191,935,2978,1662,282,1870,4265,1357,1776,1405,3051,915,2159,1010,791,2196,396,775,525,1355,1047,943,1662,471,518,139,1068,959,887,1928,604,2332,1127,690,1720,2649,1121,1165,707,500,667,1715,1692,493,1698,873,201,1350,2675,1704,1892,690,968,3376,1049,534,641,1168,1630,643,1140,3450,992,1306,1074,550,460,3918,1601,645,1835,1983,1889,1539,1022,756,1048,1059,3322,1192,1065,6188,1028,1050,1057,903,1238,1363,1476,1109,544,2933,4772,809,5544,532,484,2984,1051,1345,1863,1506,981,4740,1301,840,1818,1174,704,2371,2693,1603,1306,1271,5471,1063,5881,1095,1944,823,2523,1151,910,850,618,996,545,649,771,1333,2213,1410,2281,716,1646,1362,945,4623,1024,1365,3128,1464,6862,654,935,954,1133,1000,1792,6534,795,710,2505,1210,538,488,392,951,1222,909,1911,1818,494,1685,2448,3906,5612,9950,961,3168,3566,552,1075,474,662,1445,738,500,509,967,650,2738,2018,600,968,887,840,1129,1820,965,4298,1188,1134,1532,1763,2192,925,2155,1548,621,1663,912,3010,3558,2740,5244,2269,1363,1524,1723,628,1605,909,2578,830,1160,1089,3557,7016,7703,846,731,988,1247,624,1343,1452,4481,836,880,336,2943,1805,1721,1927,2258,1100,685,1788,1073,1773,1695,1057,671,1893,316,1241,2852,950,926,1891,600,931,806,364,1243,1170,1039,1365,1114,1656,1115,2508,1274,12408,601,1919,646,1310,879,11160,1115,1040,7450,1862,500,2587,1686,769,2502,1780,1707,1419,1648,1310,1202,5809,2580,1316,1041,2488,654,1664,597,641,797,750,1889,1173,1379,1133,4540,3717,630,1070,2677,1071,653,1199,581,4291,1345,2748,735,590,1460,1127,743,2111,1668,624,1707,1345,1873,513,1223,1691,815,716,2473,543,4576,1433,1263,341,1715,2888,1921,1035,1670,700,534,2959,3891,1000,1897,521,569,1922,2993,4384,752,1115,2669,686,1144,1116,614,2322,2479,784,4892,1770,620,504,1177,589,1971,1501,1688,393,1687,1801,494,2615,2149,1946,617,1117,614,1964,1263,2022,1442,527,10142,396,908,1757,402,5064,895,1204,791,662,867,978,1737,309,484,2110,4941,983,2825,634,1915,771,3340,1058,5889,14130,2666,2149,662,2551,3768,1417,1431,7760,1417,820,7671,9205,2041,2738,2854,5071,3698,4309,3674,13259,4106,995,1145,2664,1129,2936,1481,1131,699,2501,5500,2164,6362,1298,1130,1014,703,801,1324,3499,847,466,1295,1098,1584,822,4879,1280,327,1739,2195,416,2961,872,2714,1509,1071,1803,665,1411,979,2200,1335,971,1220,1235,1270,2186,1803,1595,1279,851,1988,199,1207,282,1980,1059,2802,2849,2793,5217,2988],\"yaxis\":\"y\",\"type\":\"scatter\"},{\"hovertemplate\":\"Private=No<br>Outstate=%{x}<br>F.Undergrad=%{y}<extra></extra>\",\"legendgroup\":\"No\",\"marker\":{\"color\":\"#EF553B\",\"symbol\":\"circle\"},\"mode\":\"markers\",\"name\":\"No\",\"orientation\":\"v\",\"showlegend\":true,\"x\":[5130,6806,7434,3460,6300,4425,7844,7452,7380,7706,7656,5962,4620,7242,7860,8116,7168,6120,11720,8412,4528,4486,7248,5800,5962,5710,5401,6297,6806,6597,6680,6198,5840,10800,6489,6744,6108,7799,6892,9766,7550,7994,3946,7656,6995,7870,4752,4938,4818,7352,7920,5925,3957,7320,4300,6490,4486,5016,8856,10658,8127,7844,9866,4386,3840,6073,5552,3648,4426,4738,8832,5376,5542,6806,8400,5834,4856,6746,7799,3735,9114,7629,5336,6360,10645,2580,4290,9556,6684,4449,4356,7410,7411,7410,4259,5130,8384,7844,3811,4680,3738,5472,4740,4285,6800,3040,6550,6550,6550,6550,6550,6550,6550,6550,6550,6550,6550,6550,6840,6550,5130,4860,7860,7070,5391,6874,4440,5028,11648,12024,6618,8907,11656,7090,5697,4460,7560,7230,6994,6540,6810,6600,6600,8594,8723,8566,6919,15732,8828,9843,8949,4916,9057,9057,7246,4440,5595,11180,5972,8400,7248,8677,7558,5634,6634,4104,7731,6197,5173,10602,10786,10330,3687,5800,8074,6760,7100,4973,4652,5764,4422,5130,4104,6857,15516,12212,8199,6172,6704,7032,6950,6900,9096,8786,5988,4286,10217,5587,10260,8200,2700,7844,4470,6390,6940,5918,8124,5542,14320,4200,6400,6797],\"xaxis\":\"x\",\"y\":[4190,9940,22593,3602,16262,3796,5847,13699,12911,13494,1547,6394,8094,6507,2910,11755,1125,6851,5186,15646,2806,1376,13171,6706,2766,9161,3957,3065,2632,10208,18906,3793,3224,9528,8528,7732,8234,15701,8596,24763,18676,9652,3817,1224,14914,3480,5438,2074,1196,3390,2874,16269,6720,959,9649,2997,658,3471,13606,26640,5524,5146,10094,1673,3689,1470,8730,6411,5983,5968,3311,1017,1380,6162,16505,7368,5640,11249,14826,4787,6441,14861,12830,2174,28938,959,4564,26213,8077,2745,5303,21401,2585,4005,11493,4296,16407,5268,7000,6553,2962,6063,13131,2091,1315,4365,10168,8544,13963,9744,5758,6943,7626,5011,4123,5060,4658,5004,3598,2478,31643,1206,5584,2024,5167,7764,6960,9978,19532,12677,12330,11036,12478,24470,19553,11028,25422,13518,17880,9844,1906,633,974,6476,19340,16282,4664,22045,5887,1846,16502,7524,14782,3926,4793,2385,16454,10358,2033,14609,10099,7532,6635,8334,3876,14047,8463,10135,13436,11669,13138,8894,1140,1855,12594,14770,3716,4283,9260,15749,10975,30017,9375,13894,7353,11278,20356,3754,6038,1434,7804,3819,23945,11561,7535,863,10262,3006,18511,14445,2754,7484,2138,5000,15739,2315,8909,3234,1276,5800,3395,3089],\"yaxis\":\"y\",\"type\":\"scatter\"}],                        {\"template\":{\"data\":{\"histogram2dcontour\":[{\"type\":\"histogram2dcontour\",\"colorbar\":{\"outlinewidth\":0,\"ticks\":\"\"},\"colorscale\":[[0.0,\"#0d0887\"],[0.1111111111111111,\"#46039f\"],[0.2222222222222222,\"#7201a8\"],[0.3333333333333333,\"#9c179e\"],[0.4444444444444444,\"#bd3786\"],[0.5555555555555556,\"#d8576b\"],[0.6666666666666666,\"#ed7953\"],[0.7777777777777778,\"#fb9f3a\"],[0.8888888888888888,\"#fdca26\"],[1.0,\"#f0f921\"]]}],\"choropleth\":[{\"type\":\"choropleth\",\"colorbar\":{\"outlinewidth\":0,\"ticks\":\"\"}}],\"histogram2d\":[{\"type\":\"histogram2d\",\"colorbar\":{\"outlinewidth\":0,\"ticks\":\"\"},\"colorscale\":[[0.0,\"#0d0887\"],[0.1111111111111111,\"#46039f\"],[0.2222222222222222,\"#7201a8\"],[0.3333333333333333,\"#9c179e\"],[0.4444444444444444,\"#bd3786\"],[0.5555555555555556,\"#d8576b\"],[0.6666666666666666,\"#ed7953\"],[0.7777777777777778,\"#fb9f3a\"],[0.8888888888888888,\"#fdca26\"],[1.0,\"#f0f921\"]]}],\"heatmap\":[{\"type\":\"heatmap\",\"colorbar\":{\"outlinewidth\":0,\"ticks\":\"\"},\"colorscale\":[[0.0,\"#0d0887\"],[0.1111111111111111,\"#46039f\"],[0.2222222222222222,\"#7201a8\"],[0.3333333333333333,\"#9c179e\"],[0.4444444444444444,\"#bd3786\"],[0.5555555555555556,\"#d8576b\"],[0.6666666666666666,\"#ed7953\"],[0.7777777777777778,\"#fb9f3a\"],[0.8888888888888888,\"#fdca26\"],[1.0,\"#f0f921\"]]}],\"heatmapgl\":[{\"type\":\"heatmapgl\",\"colorbar\":{\"outlinewidth\":0,\"ticks\":\"\"},\"colorscale\":[[0.0,\"#0d0887\"],[0.1111111111111111,\"#46039f\"],[0.2222222222222222,\"#7201a8\"],[0.3333333333333333,\"#9c179e\"],[0.4444444444444444,\"#bd3786\"],[0.5555555555555556,\"#d8576b\"],[0.6666666666666666,\"#ed7953\"],[0.7777777777777778,\"#fb9f3a\"],[0.8888888888888888,\"#fdca26\"],[1.0,\"#f0f921\"]]}],\"contourcarpet\":[{\"type\":\"contourcarpet\",\"colorbar\":{\"outlinewidth\":0,\"ticks\":\"\"}}],\"contour\":[{\"type\":\"contour\",\"colorbar\":{\"outlinewidth\":0,\"ticks\":\"\"},\"colorscale\":[[0.0,\"#0d0887\"],[0.1111111111111111,\"#46039f\"],[0.2222222222222222,\"#7201a8\"],[0.3333333333333333,\"#9c179e\"],[0.4444444444444444,\"#bd3786\"],[0.5555555555555556,\"#d8576b\"],[0.6666666666666666,\"#ed7953\"],[0.7777777777777778,\"#fb9f3a\"],[0.8888888888888888,\"#fdca26\"],[1.0,\"#f0f921\"]]}],\"surface\":[{\"type\":\"surface\",\"colorbar\":{\"outlinewidth\":0,\"ticks\":\"\"},\"colorscale\":[[0.0,\"#0d0887\"],[0.1111111111111111,\"#46039f\"],[0.2222222222222222,\"#7201a8\"],[0.3333333333333333,\"#9c179e\"],[0.4444444444444444,\"#bd3786\"],[0.5555555555555556,\"#d8576b\"],[0.6666666666666666,\"#ed7953\"],[0.7777777777777778,\"#fb9f3a\"],[0.8888888888888888,\"#fdca26\"],[1.0,\"#f0f921\"]]}],\"mesh3d\":[{\"type\":\"mesh3d\",\"colorbar\":{\"outlinewidth\":0,\"ticks\":\"\"}}],\"scatter\":[{\"fillpattern\":{\"fillmode\":\"overlay\",\"size\":10,\"solidity\":0.2},\"type\":\"scatter\"}],\"parcoords\":[{\"type\":\"parcoords\",\"line\":{\"colorbar\":{\"outlinewidth\":0,\"ticks\":\"\"}}}],\"scatterpolargl\":[{\"type\":\"scatterpolargl\",\"marker\":{\"colorbar\":{\"outlinewidth\":0,\"ticks\":\"\"}}}],\"bar\":[{\"error_x\":{\"color\":\"#2a3f5f\"},\"error_y\":{\"color\":\"#2a3f5f\"},\"marker\":{\"line\":{\"color\":\"#E5ECF6\",\"width\":0.5},\"pattern\":{\"fillmode\":\"overlay\",\"size\":10,\"solidity\":0.2}},\"type\":\"bar\"}],\"scattergeo\":[{\"type\":\"scattergeo\",\"marker\":{\"colorbar\":{\"outlinewidth\":0,\"ticks\":\"\"}}}],\"scatterpolar\":[{\"type\":\"scatterpolar\",\"marker\":{\"colorbar\":{\"outlinewidth\":0,\"ticks\":\"\"}}}],\"histogram\":[{\"marker\":{\"pattern\":{\"fillmode\":\"overlay\",\"size\":10,\"solidity\":0.2}},\"type\":\"histogram\"}],\"scattergl\":[{\"type\":\"scattergl\",\"marker\":{\"colorbar\":{\"outlinewidth\":0,\"ticks\":\"\"}}}],\"scatter3d\":[{\"type\":\"scatter3d\",\"line\":{\"colorbar\":{\"outlinewidth\":0,\"ticks\":\"\"}},\"marker\":{\"colorbar\":{\"outlinewidth\":0,\"ticks\":\"\"}}}],\"scattermapbox\":[{\"type\":\"scattermapbox\",\"marker\":{\"colorbar\":{\"outlinewidth\":0,\"ticks\":\"\"}}}],\"scatterternary\":[{\"type\":\"scatterternary\",\"marker\":{\"colorbar\":{\"outlinewidth\":0,\"ticks\":\"\"}}}],\"scattercarpet\":[{\"type\":\"scattercarpet\",\"marker\":{\"colorbar\":{\"outlinewidth\":0,\"ticks\":\"\"}}}],\"carpet\":[{\"aaxis\":{\"endlinecolor\":\"#2a3f5f\",\"gridcolor\":\"white\",\"linecolor\":\"white\",\"minorgridcolor\":\"white\",\"startlinecolor\":\"#2a3f5f\"},\"baxis\":{\"endlinecolor\":\"#2a3f5f\",\"gridcolor\":\"white\",\"linecolor\":\"white\",\"minorgridcolor\":\"white\",\"startlinecolor\":\"#2a3f5f\"},\"type\":\"carpet\"}],\"table\":[{\"cells\":{\"fill\":{\"color\":\"#EBF0F8\"},\"line\":{\"color\":\"white\"}},\"header\":{\"fill\":{\"color\":\"#C8D4E3\"},\"line\":{\"color\":\"white\"}},\"type\":\"table\"}],\"barpolar\":[{\"marker\":{\"line\":{\"color\":\"#E5ECF6\",\"width\":0.5},\"pattern\":{\"fillmode\":\"overlay\",\"size\":10,\"solidity\":0.2}},\"type\":\"barpolar\"}],\"pie\":[{\"automargin\":true,\"type\":\"pie\"}]},\"layout\":{\"autotypenumbers\":\"strict\",\"colorway\":[\"#636efa\",\"#EF553B\",\"#00cc96\",\"#ab63fa\",\"#FFA15A\",\"#19d3f3\",\"#FF6692\",\"#B6E880\",\"#FF97FF\",\"#FECB52\"],\"font\":{\"color\":\"#2a3f5f\"},\"hovermode\":\"closest\",\"hoverlabel\":{\"align\":\"left\"},\"paper_bgcolor\":\"white\",\"plot_bgcolor\":\"#E5ECF6\",\"polar\":{\"bgcolor\":\"#E5ECF6\",\"angularaxis\":{\"gridcolor\":\"white\",\"linecolor\":\"white\",\"ticks\":\"\"},\"radialaxis\":{\"gridcolor\":\"white\",\"linecolor\":\"white\",\"ticks\":\"\"}},\"ternary\":{\"bgcolor\":\"#E5ECF6\",\"aaxis\":{\"gridcolor\":\"white\",\"linecolor\":\"white\",\"ticks\":\"\"},\"baxis\":{\"gridcolor\":\"white\",\"linecolor\":\"white\",\"ticks\":\"\"},\"caxis\":{\"gridcolor\":\"white\",\"linecolor\":\"white\",\"ticks\":\"\"}},\"coloraxis\":{\"colorbar\":{\"outlinewidth\":0,\"ticks\":\"\"}},\"colorscale\":{\"sequential\":[[0.0,\"#0d0887\"],[0.1111111111111111,\"#46039f\"],[0.2222222222222222,\"#7201a8\"],[0.3333333333333333,\"#9c179e\"],[0.4444444444444444,\"#bd3786\"],[0.5555555555555556,\"#d8576b\"],[0.6666666666666666,\"#ed7953\"],[0.7777777777777778,\"#fb9f3a\"],[0.8888888888888888,\"#fdca26\"],[1.0,\"#f0f921\"]],\"sequentialminus\":[[0.0,\"#0d0887\"],[0.1111111111111111,\"#46039f\"],[0.2222222222222222,\"#7201a8\"],[0.3333333333333333,\"#9c179e\"],[0.4444444444444444,\"#bd3786\"],[0.5555555555555556,\"#d8576b\"],[0.6666666666666666,\"#ed7953\"],[0.7777777777777778,\"#fb9f3a\"],[0.8888888888888888,\"#fdca26\"],[1.0,\"#f0f921\"]],\"diverging\":[[0,\"#8e0152\"],[0.1,\"#c51b7d\"],[0.2,\"#de77ae\"],[0.3,\"#f1b6da\"],[0.4,\"#fde0ef\"],[0.5,\"#f7f7f7\"],[0.6,\"#e6f5d0\"],[0.7,\"#b8e186\"],[0.8,\"#7fbc41\"],[0.9,\"#4d9221\"],[1,\"#276419\"]]},\"xaxis\":{\"gridcolor\":\"white\",\"linecolor\":\"white\",\"ticks\":\"\",\"title\":{\"standoff\":15},\"zerolinecolor\":\"white\",\"automargin\":true,\"zerolinewidth\":2},\"yaxis\":{\"gridcolor\":\"white\",\"linecolor\":\"white\",\"ticks\":\"\",\"title\":{\"standoff\":15},\"zerolinecolor\":\"white\",\"automargin\":true,\"zerolinewidth\":2},\"scene\":{\"xaxis\":{\"backgroundcolor\":\"#E5ECF6\",\"gridcolor\":\"white\",\"linecolor\":\"white\",\"showbackground\":true,\"ticks\":\"\",\"zerolinecolor\":\"white\",\"gridwidth\":2},\"yaxis\":{\"backgroundcolor\":\"#E5ECF6\",\"gridcolor\":\"white\",\"linecolor\":\"white\",\"showbackground\":true,\"ticks\":\"\",\"zerolinecolor\":\"white\",\"gridwidth\":2},\"zaxis\":{\"backgroundcolor\":\"#E5ECF6\",\"gridcolor\":\"white\",\"linecolor\":\"white\",\"showbackground\":true,\"ticks\":\"\",\"zerolinecolor\":\"white\",\"gridwidth\":2}},\"shapedefaults\":{\"line\":{\"color\":\"#2a3f5f\"}},\"annotationdefaults\":{\"arrowcolor\":\"#2a3f5f\",\"arrowhead\":0,\"arrowwidth\":1},\"geo\":{\"bgcolor\":\"white\",\"landcolor\":\"#E5ECF6\",\"subunitcolor\":\"white\",\"showland\":true,\"showlakes\":true,\"lakecolor\":\"white\"},\"title\":{\"x\":0.05},\"mapbox\":{\"style\":\"light\"}}},\"xaxis\":{\"anchor\":\"y\",\"domain\":[0.0,1.0],\"title\":{\"text\":\"Outstate\"}},\"yaxis\":{\"anchor\":\"x\",\"domain\":[0.0,1.0],\"title\":{\"text\":\"F.Undergrad\"}},\"legend\":{\"title\":{\"text\":\"Private\"},\"tracegroupgap\":0},\"margin\":{\"t\":60}},                        {\"responsive\": true}                    ).then(function(){\n",
       "                            \n",
       "var gd = document.getElementById('e6d74334-3342-4206-bbed-c1385c9e57dc');\n",
       "var x = new MutationObserver(function (mutations, observer) {{\n",
       "        var display = window.getComputedStyle(gd).display;\n",
       "        if (!display || display === 'none') {{\n",
       "            console.log([gd, 'removed!']);\n",
       "            Plotly.purge(gd);\n",
       "            observer.disconnect();\n",
       "        }}\n",
       "}});\n",
       "\n",
       "// Listen for the removal of the full notebook cells\n",
       "var notebookContainer = gd.closest('#notebook-container');\n",
       "if (notebookContainer) {{\n",
       "    x.observe(notebookContainer, {childList: true});\n",
       "}}\n",
       "\n",
       "// Listen for the clearing of the current output cell\n",
       "var outputEl = gd.closest('.output');\n",
       "if (outputEl) {{\n",
       "    x.observe(outputEl, {childList: true});\n",
       "}}\n",
       "\n",
       "                        })                };                });            </script>        </div>"
      ]
     },
     "metadata": {},
     "output_type": "display_data"
    }
   ],
   "source": [
    "fig = px.scatter(df, x=\"Outstate\", y=\"F.Undergrad\", color='Private')\n",
    "fig.show()"
   ]
  },
  {
   "cell_type": "markdown",
   "metadata": {},
   "source": [
    "## Use sns.FacetGrid to create a stacked histogram showing Out of State Tuition based on the Private column. "
   ]
  },
  {
   "cell_type": "code",
   "execution_count": 29,
   "metadata": {},
   "outputs": [
    {
     "data": {
      "image/png": "[encoded data removed]",
      "text/plain": [
       "<Figure size 864x432 with 1 Axes>"
      ]
     },
     "metadata": {},
     "output_type": "display_data"
    }
   ],
   "source": [
    "sns.set_theme(style=\"darkgrid\")\n",
    "g = sns.FacetGrid(df ,hue=\"Private\" ,height = 6,aspect=2)\n",
    "g.map(plt.hist, \"Outstate\", bins=20,alpha = 0.5)\n",
    "plt.legend();"
   ]
  },
  {
   "cell_type": "markdown",
   "metadata": {},
   "source": [
    "## Use sns.FacetGrid to create a stacked histogram showing Grad.Rate based on the Private column. "
   ]
  },
  {
   "cell_type": "code",
   "execution_count": 36,
   "metadata": {},
   "outputs": [
    {
     "data": {
      "image/png": "[encoded data removed]",
      "text/plain": [
       "<Figure size 864x432 with 1 Axes>"
      ]
     },
     "metadata": {},
     "output_type": "display_data"
    }
   ],
   "source": [
    "sns.set_theme(style=\"darkgrid\")\n",
    "g = sns.FacetGrid(df ,hue=\"Private\" ,height = 6,aspect=2)\n",
    "g.map(plt.hist, \"Grad.Rate\", bins=20,alpha = 0.5)\n",
    "plt.legend();"
   ]
  },
  {
   "cell_type": "markdown",
   "metadata": {},
   "source": [
    "## Notice how there seems to be a private school with a graduation rate of higher than 100%.What is the name of that school?"
   ]
  },
  {
   "cell_type": "code",
   "execution_count": 37,
   "metadata": {},
   "outputs": [
    {
     "data": {
      "text/html": [
       "<div>\n",
       "<style scoped>\n",
       "    .dataframe tbody tr th:only-of-type {\n",
       "        vertical-align: middle;\n",
       "    }\n",
       "\n",
       "    .dataframe tbody tr th {\n",
       "        vertical-align: top;\n",
       "    }\n",
       "\n",
       "    .dataframe thead th {\n",
       "        text-align: right;\n",
       "    }\n",
       "</style>\n",
       "<table border=\"1\" class=\"dataframe\">\n",
       "  <thead>\n",
       "    <tr style=\"text-align: right;\">\n",
       "      <th></th>\n",
       "      <th>Private</th>\n",
       "      <th>Apps</th>\n",
       "      <th>Accept</th>\n",
       "      <th>Enroll</th>\n",
       "      <th>Top10perc</th>\n",
       "      <th>Top25perc</th>\n",
       "      <th>F.Undergrad</th>\n",
       "      <th>P.Undergrad</th>\n",
       "      <th>Outstate</th>\n",
       "      <th>Room.Board</th>\n",
       "      <th>Books</th>\n",
       "      <th>Personal</th>\n",
       "      <th>PhD</th>\n",
       "      <th>Terminal</th>\n",
       "      <th>S.F.Ratio</th>\n",
       "      <th>perc.alumni</th>\n",
       "      <th>Expend</th>\n",
       "      <th>Grad.Rate</th>\n",
       "    </tr>\n",
       "  </thead>\n",
       "  <tbody>\n",
       "    <tr>\n",
       "      <th>Cazenovia College</th>\n",
       "      <td>Yes</td>\n",
       "      <td>3847</td>\n",
       "      <td>3433</td>\n",
       "      <td>527</td>\n",
       "      <td>9</td>\n",
       "      <td>35</td>\n",
       "      <td>1010</td>\n",
       "      <td>12</td>\n",
       "      <td>9384</td>\n",
       "      <td>4840</td>\n",
       "      <td>600</td>\n",
       "      <td>500</td>\n",
       "      <td>22</td>\n",
       "      <td>47</td>\n",
       "      <td>14.3</td>\n",
       "      <td>20</td>\n",
       "      <td>7697</td>\n",
       "      <td>118</td>\n",
       "    </tr>\n",
       "  </tbody>\n",
       "</table>\n",
       "</div>"
      ],
      "text/plain": [
       "                  Private  Apps  Accept  Enroll  Top10perc  Top25perc  \\\n",
       "Cazenovia College     Yes  3847    3433     527          9         35   \n",
       "\n",
       "                   F.Undergrad  P.Undergrad  Outstate  Room.Board  Books  \\\n",
       "Cazenovia College         1010           12      9384        4840    600   \n",
       "\n",
       "                   Personal  PhD  Terminal  S.F.Ratio  perc.alumni  Expend  \\\n",
       "Cazenovia College       500   22        47       14.3           20    7697   \n",
       "\n",
       "                   Grad.Rate  \n",
       "Cazenovia College        118  "
      ]
     },
     "execution_count": 37,
     "metadata": {},
     "output_type": "execute_result"
    }
   ],
   "source": [
    "df[df['Grad.Rate'] > 100]"
   ]
  },
  {
   "cell_type": "markdown",
   "metadata": {},
   "source": [
    "## Set that school's graduation rate to 100 then re-do the histogram visualization."
   ]
  },
  {
   "cell_type": "code",
   "execution_count": 42,
   "metadata": {},
   "outputs": [],
   "source": [
    "df.loc[df['Grad.Rate'] > 100,'Grad.Rate'] = 100"
   ]
  },
  {
   "cell_type": "code",
   "execution_count": 43,
   "metadata": {},
   "outputs": [
    {
     "data": {
      "text/html": [
       "<div>\n",
       "<style scoped>\n",
       "    .dataframe tbody tr th:only-of-type {\n",
       "        vertical-align: middle;\n",
       "    }\n",
       "\n",
       "    .dataframe tbody tr th {\n",
       "        vertical-align: top;\n",
       "    }\n",
       "\n",
       "    .dataframe thead th {\n",
       "        text-align: right;\n",
       "    }\n",
       "</style>\n",
       "<table border=\"1\" class=\"dataframe\">\n",
       "  <thead>\n",
       "    <tr style=\"text-align: right;\">\n",
       "      <th></th>\n",
       "      <th>Private</th>\n",
       "      <th>Apps</th>\n",
       "      <th>Accept</th>\n",
       "      <th>Enroll</th>\n",
       "      <th>Top10perc</th>\n",
       "      <th>Top25perc</th>\n",
       "      <th>F.Undergrad</th>\n",
       "      <th>P.Undergrad</th>\n",
       "      <th>Outstate</th>\n",
       "      <th>Room.Board</th>\n",
       "      <th>Books</th>\n",
       "      <th>Personal</th>\n",
       "      <th>PhD</th>\n",
       "      <th>Terminal</th>\n",
       "      <th>S.F.Ratio</th>\n",
       "      <th>perc.alumni</th>\n",
       "      <th>Expend</th>\n",
       "      <th>Grad.Rate</th>\n",
       "    </tr>\n",
       "  </thead>\n",
       "  <tbody>\n",
       "  </tbody>\n",
       "</table>\n",
       "</div>"
      ],
      "text/plain": [
       "Empty DataFrame\n",
       "Columns: [Private, Apps, Accept, Enroll, Top10perc, Top25perc, F.Undergrad, P.Undergrad, Outstate, Room.Board, Books, Personal, PhD, Terminal, S.F.Ratio, perc.alumni, Expend, Grad.Rate]\n",
       "Index: []"
      ]
     },
     "execution_count": 43,
     "metadata": {},
     "output_type": "execute_result"
    }
   ],
   "source": [
    "df[df['Grad.Rate'] > 100]"
   ]
  },
  {
   "cell_type": "code",
   "execution_count": 44,
   "metadata": {},
   "outputs": [
    {
     "data": {
      "image/png": "[encoded data removed]",
      "text/plain": [
       "<Figure size 864x432 with 1 Axes>"
      ]
     },
     "metadata": {},
     "output_type": "display_data"
    }
   ],
   "source": [
    "sns.set_theme(style=\"darkgrid\")\n",
    "g = sns.FacetGrid(df ,hue=\"Private\" ,height = 6,aspect=2)\n",
    "g.map(plt.hist, \"Grad.Rate\", bins=20,alpha = 0.5)\n",
    "plt.legend();"
   ]
  },
  {
   "cell_type": "markdown",
   "metadata": {},
   "source": [
    "## K Means Model"
   ]
  },
  {
   "cell_type": "code",
   "execution_count": 48,
   "metadata": {},
   "outputs": [],
   "source": [
    "from sklearn.cluster import KMeans"
   ]
  },
  {
   "cell_type": "code",
   "execution_count": 49,
   "metadata": {},
   "outputs": [],
   "source": [
    "kmeans = KMeans(n_clusters=2)"
   ]
  },
  {
   "cell_type": "markdown",
   "metadata": {},
   "source": [
    "## Fit the model to all the data except for the Private label."
   ]
  },
  {
   "cell_type": "code",
   "execution_count": 50,
   "metadata": {},
   "outputs": [
    {
     "data": {
      "text/plain": [
       "KMeans(algorithm='auto', copy_x=True, init='k-means++', max_iter=300,\n",
       "       n_clusters=2, n_init=10, n_jobs=None, precompute_distances='auto',\n",
       "       random_state=None, tol=0.0001, verbose=0)"
      ]
     },
     "execution_count": 50,
     "metadata": {},
     "output_type": "execute_result"
    }
   ],
   "source": [
    "X = df.drop('Private',axis=1)\n",
    "kmeans.fit(X)"
   ]
  },
  {
   "cell_type": "markdown",
   "metadata": {},
   "source": [
    "## What are the cluster center vectors?"
   ]
  },
  {
   "cell_type": "code",
   "execution_count": 51,
   "metadata": {},
   "outputs": [
    {
     "data": {
      "text/plain": [
       "array([[1.81323468e+03, 1.28716592e+03, 4.91044843e+02, 2.53094170e+01,\n",
       "        5.34708520e+01, 2.18854858e+03, 5.95458894e+02, 1.03957085e+04,\n",
       "        4.31136472e+03, 5.41982063e+02, 1.28033632e+03, 7.04424514e+01,\n",
       "        7.78251121e+01, 1.40997010e+01, 2.31748879e+01, 8.93204634e+03,\n",
       "        6.50926756e+01],\n",
       "       [1.03631389e+04, 6.55089815e+03, 2.56972222e+03, 4.14907407e+01,\n",
       "        7.02037037e+01, 1.30619352e+04, 2.46486111e+03, 1.07191759e+04,\n",
       "        4.64347222e+03, 5.95212963e+02, 1.71420370e+03, 8.63981481e+01,\n",
       "        9.13333333e+01, 1.40277778e+01, 2.00740741e+01, 1.41705000e+04,\n",
       "        6.75925926e+01]])"
      ]
     },
     "execution_count": 51,
     "metadata": {},
     "output_type": "execute_result"
    }
   ],
   "source": [
    "kmeans.cluster_centers_"
   ]
  },
  {
   "cell_type": "markdown",
   "metadata": {},
   "source": [
    "## Create a new column for df called 'Cluster', which is a 1 for a Private school, and a 0 for a public school."
   ]
  },
  {
   "cell_type": "code",
   "execution_count": 52,
   "metadata": {},
   "outputs": [
    {
     "data": {
      "text/html": [
       "<div>\n",
       "<style scoped>\n",
       "    .dataframe tbody tr th:only-of-type {\n",
       "        vertical-align: middle;\n",
       "    }\n",
       "\n",
       "    .dataframe tbody tr th {\n",
       "        vertical-align: top;\n",
       "    }\n",
       "\n",
       "    .dataframe thead th {\n",
       "        text-align: right;\n",
       "    }\n",
       "</style>\n",
       "<table border=\"1\" class=\"dataframe\">\n",
       "  <thead>\n",
       "    <tr style=\"text-align: right;\">\n",
       "      <th></th>\n",
       "      <th>Private</th>\n",
       "      <th>Apps</th>\n",
       "      <th>Accept</th>\n",
       "      <th>Enroll</th>\n",
       "      <th>Top10perc</th>\n",
       "      <th>Top25perc</th>\n",
       "      <th>F.Undergrad</th>\n",
       "      <th>P.Undergrad</th>\n",
       "      <th>Outstate</th>\n",
       "      <th>Room.Board</th>\n",
       "      <th>Books</th>\n",
       "      <th>Personal</th>\n",
       "      <th>PhD</th>\n",
       "      <th>Terminal</th>\n",
       "      <th>S.F.Ratio</th>\n",
       "      <th>perc.alumni</th>\n",
       "      <th>Expend</th>\n",
       "      <th>Grad.Rate</th>\n",
       "      <th>Cluster</th>\n",
       "    </tr>\n",
       "  </thead>\n",
       "  <tbody>\n",
       "    <tr>\n",
       "      <th>Abilene Christian University</th>\n",
       "      <td>Yes</td>\n",
       "      <td>1660</td>\n",
       "      <td>1232</td>\n",
       "      <td>721</td>\n",
       "      <td>23</td>\n",
       "      <td>52</td>\n",
       "      <td>2885</td>\n",
       "      <td>537</td>\n",
       "      <td>7440</td>\n",
       "      <td>3300</td>\n",
       "      <td>450</td>\n",
       "      <td>2200</td>\n",
       "      <td>70</td>\n",
       "      <td>78</td>\n",
       "      <td>18.1</td>\n",
       "      <td>12</td>\n",
       "      <td>7041</td>\n",
       "      <td>60</td>\n",
       "      <td>1</td>\n",
       "    </tr>\n",
       "    <tr>\n",
       "      <th>Adelphi University</th>\n",
       "      <td>Yes</td>\n",
       "      <td>2186</td>\n",
       "      <td>1924</td>\n",
       "      <td>512</td>\n",
       "      <td>16</td>\n",
       "      <td>29</td>\n",
       "      <td>2683</td>\n",
       "      <td>1227</td>\n",
       "      <td>12280</td>\n",
       "      <td>6450</td>\n",
       "      <td>750</td>\n",
       "      <td>1500</td>\n",
       "      <td>29</td>\n",
       "      <td>30</td>\n",
       "      <td>12.2</td>\n",
       "      <td>16</td>\n",
       "      <td>10527</td>\n",
       "      <td>56</td>\n",
       "      <td>1</td>\n",
       "    </tr>\n",
       "    <tr>\n",
       "      <th>Adrian College</th>\n",
       "      <td>Yes</td>\n",
       "      <td>1428</td>\n",
       "      <td>1097</td>\n",
       "      <td>336</td>\n",
       "      <td>22</td>\n",
       "      <td>50</td>\n",
       "      <td>1036</td>\n",
       "      <td>99</td>\n",
       "      <td>11250</td>\n",
       "      <td>3750</td>\n",
       "      <td>400</td>\n",
       "      <td>1165</td>\n",
       "      <td>53</td>\n",
       "      <td>66</td>\n",
       "      <td>12.9</td>\n",
       "      <td>30</td>\n",
       "      <td>8735</td>\n",
       "      <td>54</td>\n",
       "      <td>1</td>\n",
       "    </tr>\n",
       "    <tr>\n",
       "      <th>Agnes Scott College</th>\n",
       "      <td>Yes</td>\n",
       "      <td>417</td>\n",
       "      <td>349</td>\n",
       "      <td>137</td>\n",
       "      <td>60</td>\n",
       "      <td>89</td>\n",
       "      <td>510</td>\n",
       "      <td>63</td>\n",
       "      <td>12960</td>\n",
       "      <td>5450</td>\n",
       "      <td>450</td>\n",
       "      <td>875</td>\n",
       "      <td>92</td>\n",
       "      <td>97</td>\n",
       "      <td>7.7</td>\n",
       "      <td>37</td>\n",
       "      <td>19016</td>\n",
       "      <td>59</td>\n",
       "      <td>1</td>\n",
       "    </tr>\n",
       "    <tr>\n",
       "      <th>Alaska Pacific University</th>\n",
       "      <td>Yes</td>\n",
       "      <td>193</td>\n",
       "      <td>146</td>\n",
       "      <td>55</td>\n",
       "      <td>16</td>\n",
       "      <td>44</td>\n",
       "      <td>249</td>\n",
       "      <td>869</td>\n",
       "      <td>7560</td>\n",
       "      <td>4120</td>\n",
       "      <td>800</td>\n",
       "      <td>1500</td>\n",
       "      <td>76</td>\n",
       "      <td>72</td>\n",
       "      <td>11.9</td>\n",
       "      <td>2</td>\n",
       "      <td>10922</td>\n",
       "      <td>15</td>\n",
       "      <td>1</td>\n",
       "    </tr>\n",
       "  </tbody>\n",
       "</table>\n",
       "</div>"
      ],
      "text/plain": [
       "                             Private  Apps  Accept  Enroll  Top10perc  \\\n",
       "Abilene Christian University     Yes  1660    1232     721         23   \n",
       "Adelphi University               Yes  2186    1924     512         16   \n",
       "Adrian College                   Yes  1428    1097     336         22   \n",
       "Agnes Scott College              Yes   417     349     137         60   \n",
       "Alaska Pacific University        Yes   193     146      55         16   \n",
       "\n",
       "                              Top25perc  F.Undergrad  P.Undergrad  Outstate  \\\n",
       "Abilene Christian University         52         2885          537      7440   \n",
       "Adelphi University                   29         2683         1227     12280   \n",
       "Adrian College                       50         1036           99     11250   \n",
       "Agnes Scott College                  89          510           63     12960   \n",
       "Alaska Pacific University            44          249          869      7560   \n",
       "\n",
       "                              Room.Board  Books  Personal  PhD  Terminal  \\\n",
       "Abilene Christian University        3300    450      2200   70        78   \n",
       "Adelphi University                  6450    750      1500   29        30   \n",
       "Adrian College                      3750    400      1165   53        66   \n",
       "Agnes Scott College                 5450    450       875   92        97   \n",
       "Alaska Pacific University           4120    800      1500   76        72   \n",
       "\n",
       "                              S.F.Ratio  perc.alumni  Expend  Grad.Rate  \\\n",
       "Abilene Christian University       18.1           12    7041         60   \n",
       "Adelphi University                 12.2           16   10527         56   \n",
       "Adrian College                     12.9           30    8735         54   \n",
       "Agnes Scott College                 7.7           37   19016         59   \n",
       "Alaska Pacific University          11.9            2   10922         15   \n",
       "\n",
       "                              Cluster  \n",
       "Abilene Christian University        1  \n",
       "Adelphi University                  1  \n",
       "Adrian College                      1  \n",
       "Agnes Scott College                 1  \n",
       "Alaska Pacific University           1  "
      ]
     },
     "execution_count": 52,
     "metadata": {},
     "output_type": "execute_result"
    }
   ],
   "source": [
    "df['Cluster'] = df.Private.replace(['Yes','No'],[1, 0])\n",
    "df.head()"
   ]
  },
  {
   "cell_type": "markdown",
   "metadata": {},
   "source": [
    "## Create a confusion matrix and classification report to see how well the Kmeans clustering worked without being given any labels."
   ]
  },
  {
   "cell_type": "code",
   "execution_count": 54,
   "metadata": {},
   "outputs": [
    {
     "name": "stdout",
     "output_type": "stream",
     "text": [
      "[[138  74]\n",
      " [531  34]]\n",
      "              precision    recall  f1-score   support\n",
      "\n",
      "           0       0.21      0.65      0.31       212\n",
      "           1       0.31      0.06      0.10       565\n",
      "\n",
      "    accuracy                           0.22       777\n",
      "   macro avg       0.26      0.36      0.21       777\n",
      "weighted avg       0.29      0.22      0.16       777\n",
      "\n"
     ]
    }
   ],
   "source": [
    "from sklearn.metrics import classification_report, confusion_matrix, accuracy_score ,ConfusionMatrixDisplay\n",
    "print(confusion_matrix(df['Cluster'], kmeans.labels_))\n",
    "print(classification_report(df['Cluster'], kmeans.labels_))"
   ]
  }
 ],
 "metadata": {
  "kernelspec": {
   "display_name": "Python 3",
   "language": "python",
   "name": "python3"
  },
  "language_info": {
   "codemirror_mode": {
    "name": "ipython",
    "version": 3
   },
   "file_extension": ".py",
   "mimetype": "text/x-python",
   "name": "python",
   "nbconvert_exporter": "python",
   "pygments_lexer": "ipython3",
   "version": "3.7.6"
  }
 },
 "nbformat": 4,
 "nbformat_minor": 1
}
